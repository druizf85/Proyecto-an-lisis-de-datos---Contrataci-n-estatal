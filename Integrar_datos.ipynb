{
 "cells": [
  {
   "cell_type": "code",
   "execution_count": 1,
   "metadata": {},
   "outputs": [],
   "source": [
    "import pandas as pd\n",
    "import seaborn as sns\n",
    "import os\n",
    "import re\n",
    "\n"
   ]
  },
  {
   "cell_type": "markdown",
   "metadata": {},
   "source": [
    "El presente documento principalmente busca analizar, transformar y consolidar las 3 bases de datos en una única base de datos, la cual se generará en un archivo csv para dar respuesta a las problemáticas generadas en Power bi.\n",
    "\n",
    "Con base en lo anterior, se verificará si este archivo existe o no actualizarlo con base en las transformaciones requeridas a los datos."
   ]
  },
  {
   "cell_type": "code",
   "execution_count": 2,
   "metadata": {},
   "outputs": [
    {
     "name": "stdout",
     "output_type": "stream",
     "text": [
      "Archivo eliminado con éxito.\n"
     ]
    }
   ],
   "source": [
    "ruta_archivo = 'C:\\\\Users\\\\danie\\\\OneDrive\\\\Escritorio\\\\Proyecto análisis de datos\\\\INTEGRADO.csv'\n",
    "\n",
    "if os.path.isfile(ruta_archivo):\n",
    "    \n",
    "    os.remove(ruta_archivo)\n",
    "    print('Archivo eliminado con éxito.')\n",
    "else:\n",
    "    print('El archivo no existe.')"
   ]
  },
  {
   "cell_type": "markdown",
   "metadata": {},
   "source": [
    "- Portal de datos abiertos, conjunto de datos SECOP I - Procesos de Compra Pública\n",
    "\n",
    "- Se abre un archivo csv llamado Data_analytics_SECOP_1.csv con la información contractual de SECOP I desde el 1° de enero de 2023 a la fecha. \n",
    "- Se estandarizan las columnas de modo que todas sean en mayúsculas y sin espacios externos\n",
    "- Se verifica el tamaño del set"
   ]
  },
  {
   "cell_type": "code",
   "execution_count": 3,
   "metadata": {},
   "outputs": [
    {
     "name": "stderr",
     "output_type": "stream",
     "text": [
      "C:\\Windows\\Temp\\ipykernel_23284\\1618291602.py:1: DtypeWarning: Columns (28,30,34,38,54) have mixed types. Specify dtype option on import or set low_memory=False.\n",
      "  df_s1_inicial=pd.read_csv('C:\\\\Users\\\\danie\\\\OneDrive\\\\Escritorio\\\\Proyecto análisis de datos\\\\Data_analytics_SECOP_1.csv')\n"
     ]
    },
    {
     "name": "stdout",
     "output_type": "stream",
     "text": [
      "['UID', 'ANNO CARGUE SECOP', 'ANNO FIRMA CONTRATO', 'NIVEL ENTIDAD', 'ORDEN ENTIDAD', 'NOMBRE ENTIDAD', 'NIT DE LA ENTIDAD', 'CÓDIGO DE LA ENTIDAD', 'ID MODALIDAD', 'MODALIDAD DE CONTRATACION', 'ESTADO DEL PROCESO', 'CAUSAL DE OTRAS FORMAS DE CONTRATACION DIRECTA', 'ID REGIMEN DE CONTRATACION', 'NOMBRE REGIMEN DE CONTRATACION', 'ID OBJETO A CONTRATAR', 'OBJETO A CONTRATAR', 'DETALLE DEL OBJETO A CONTRATAR', 'TIPO DE CONTRATO', 'MUNICIPIO DE OBTENCION', 'MUNICIPIO DE ENTREGA', 'MUNICIPIOS EJECUCION', 'FECHA DE CARGUE EN EL SECOP', 'NUMERO DE CONSTANCIA', 'NUMERO DE PROCESO', 'NUMERO DE CONTRATO', 'CUANTIA PROCESO', 'ID GRUPO', 'NOMBRE GRUPO', 'ID FAMILIA', 'NOMBRE FAMILIA', 'ID CLASE', 'NOMBRE CLASE', 'ID ADJUDICACION', 'TIPO IDENTIFI DEL CONTRATISTA', 'IDENTIFICACION DEL CONTRATISTA', 'NOM RAZON SOCIAL CONTRATISTA', 'DPTO Y MUNI CONTRATISTA', 'TIPO DOC REPRESENTANTE LEGAL', 'IDENTIFIC REPRESENTANTE LEGAL', 'NOMBRE DEL REPRESEN LEGAL', 'FECHA DE FIRMA DEL CONTRATO', 'FECHA INI EJEC CONTRATO', 'PLAZO DE EJEC DEL CONTRATO', 'RANGO DE EJEC DEL CONTRATO', 'TIEMPO ADICIONES EN DIAS', 'TIEMPO ADICIONES EN MESES', 'FECHA FIN EJEC CONTRATO', 'COMPROMISO PRESUPUESTAL', 'CUANTIA CONTRATO', 'VALOR TOTAL DE ADICIONES', 'VALOR CONTRATO CON ADICIONES', 'OBJETO DEL CONTRATO A LA FIRMA', 'PROPONENTES SELECCIONADOS', 'CALIFICACION DEFINITIVA', 'ID SUB UNIDAD EJECUTORA', 'NOMBRE SUB UNIDAD EJECUTORA', 'RUTA PROCESO EN SECOP I', 'MONEDA', 'ES POSTCONFLICTO', 'MARCACION ADICIONES', 'POSICION RUBRO', 'NOMBRE RUBRO', 'VALOR RUBRO', 'SEXO REPLEGAL', 'PILAR ACUERDO PAZ', 'PUNTO ACUERDO PAZ', 'MUNICIPIO ENTIDAD', 'DEPARTAMENTO ENTIDAD', 'ULTIMA ACTUALIZACION', 'FECHA LIQUIDACION', 'CUMPLE DECRETO 248', 'INCLUYEBIENESDECRETO248']\n"
     ]
    },
    {
     "data": {
      "text/plain": [
       "(344002, 72)"
      ]
     },
     "execution_count": 3,
     "metadata": {},
     "output_type": "execute_result"
    }
   ],
   "source": [
    "df_s1_inicial=pd.read_csv('C:\\\\Users\\\\danie\\\\OneDrive\\\\Escritorio\\\\Proyecto análisis de datos\\\\Data_analytics_SECOP_1.csv')\n",
    "\n",
    "cols=list(df_s1_inicial.columns)\n",
    "cols=[x.upper().strip() for x in cols]\n",
    "df_s1_inicial.columns=cols\n",
    "\n",
    "print(cols)\n",
    "\n",
    "df_s1_inicial.shape"
   ]
  },
  {
   "cell_type": "code",
   "execution_count": 4,
   "metadata": {},
   "outputs": [
    {
     "data": {
      "text/plain": [
       "(344002, 72)"
      ]
     },
     "execution_count": 4,
     "metadata": {},
     "output_type": "execute_result"
    }
   ],
   "source": [
    "df_s1=df_s1_inicial\n",
    "\n",
    "df_s1.shape"
   ]
  },
  {
   "cell_type": "code",
   "execution_count": 5,
   "metadata": {},
   "outputs": [
    {
     "data": {
      "text/plain": [
       "array(['Liquidado', 'Celebrado', 'Terminado sin Liquidar', 'Convocado',\n",
       "       'Adjudicado'], dtype=object)"
      ]
     },
     "execution_count": 5,
     "metadata": {},
     "output_type": "execute_result"
    }
   ],
   "source": [
    "df_s1['ESTADO DEL PROCESO'].unique()"
   ]
  },
  {
   "cell_type": "markdown",
   "metadata": {},
   "source": [
    "Ahora verificamos cómo es la distribución por cantidad de contratos para los estados de contrato de mayor a menor "
   ]
  },
  {
   "cell_type": "code",
   "execution_count": 6,
   "metadata": {},
   "outputs": [
    {
     "data": {
      "text/html": [
       "<div>\n",
       "<style scoped>\n",
       "    .dataframe tbody tr th:only-of-type {\n",
       "        vertical-align: middle;\n",
       "    }\n",
       "\n",
       "    .dataframe tbody tr th {\n",
       "        vertical-align: top;\n",
       "    }\n",
       "\n",
       "    .dataframe thead th {\n",
       "        text-align: right;\n",
       "    }\n",
       "</style>\n",
       "<table border=\"1\" class=\"dataframe\">\n",
       "  <thead>\n",
       "    <tr style=\"text-align: right;\">\n",
       "      <th></th>\n",
       "      <th>NUMERO DE CONTRATO</th>\n",
       "      <th>Porcentaje_de_Participacion</th>\n",
       "    </tr>\n",
       "    <tr>\n",
       "      <th>ESTADO DEL PROCESO</th>\n",
       "      <th></th>\n",
       "      <th></th>\n",
       "    </tr>\n",
       "  </thead>\n",
       "  <tbody>\n",
       "    <tr>\n",
       "      <th>Celebrado</th>\n",
       "      <td>232895</td>\n",
       "      <td>67.704003</td>\n",
       "    </tr>\n",
       "    <tr>\n",
       "      <th>Liquidado</th>\n",
       "      <td>100673</td>\n",
       "      <td>29.266258</td>\n",
       "    </tr>\n",
       "    <tr>\n",
       "      <th>Terminado sin Liquidar</th>\n",
       "      <td>10331</td>\n",
       "      <td>3.003285</td>\n",
       "    </tr>\n",
       "    <tr>\n",
       "      <th>Convocado</th>\n",
       "      <td>90</td>\n",
       "      <td>0.026164</td>\n",
       "    </tr>\n",
       "    <tr>\n",
       "      <th>Adjudicado</th>\n",
       "      <td>1</td>\n",
       "      <td>0.000291</td>\n",
       "    </tr>\n",
       "  </tbody>\n",
       "</table>\n",
       "</div>"
      ],
      "text/plain": [
       "                        NUMERO DE CONTRATO  Porcentaje_de_Participacion\n",
       "ESTADO DEL PROCESO                                                     \n",
       "Celebrado                           232895                    67.704003\n",
       "Liquidado                           100673                    29.266258\n",
       "Terminado sin Liquidar               10331                     3.003285\n",
       "Convocado                               90                     0.026164\n",
       "Adjudicado                               1                     0.000291"
      ]
     },
     "execution_count": 6,
     "metadata": {},
     "output_type": "execute_result"
    }
   ],
   "source": [
    "estado_proceso_agrupados = pd.DataFrame(df_s1.groupby('ESTADO DEL PROCESO')['NUMERO DE CONTRATO'].count()).sort_values('NUMERO DE CONTRATO',ascending=False).assign(Porcentaje_de_Participacion=lambda x: (x['NUMERO DE CONTRATO'] / x['NUMERO DE CONTRATO'].sum()) * 100)\n",
    "\n",
    "estado_proceso_agrupados"
   ]
  },
  {
   "cell_type": "markdown",
   "metadata": {},
   "source": [
    "Vemos que hay 90 contratos con un estado del proceso como convocado, necesitamos únicamente contratos firmados, celebrados o liquidados, por lo cual eliminaremos estos datos de la base de datos"
   ]
  },
  {
   "cell_type": "code",
   "execution_count": 7,
   "metadata": {},
   "outputs": [
    {
     "name": "stdout",
     "output_type": "stream",
     "text": [
      "Tamaño del set antes de eliminar los estados de proceso que no nos sirven para el análisis: (344002, 72) \n",
      "Tamaño del set después de eliminar los estados de proceso que no nos sirven para el análisis: (343912, 72) \n"
     ]
    }
   ],
   "source": [
    "print(f'Tamaño del set antes de eliminar los estados de proceso que no nos sirven para el análisis: {df_s1.shape} ')\n",
    "df_s1 = df_s1[~(df_s1['ESTADO DEL PROCESO'] == 'Convocado')]\n",
    "print(f'Tamaño del set después de eliminar los estados de proceso que no nos sirven para el análisis: {df_s1.shape} ')"
   ]
  },
  {
   "cell_type": "markdown",
   "metadata": {},
   "source": [
    "Ahora la distribución en cantidad de contratos para las modalidades de contratación "
   ]
  },
  {
   "cell_type": "code",
   "execution_count": 8,
   "metadata": {},
   "outputs": [
    {
     "data": {
      "text/plain": [
       "array(['Contratos y convenios con más de dos partes',\n",
       "       'Contratación Directa (Ley 1150 de 2007)', 'Régimen Especial',\n",
       "       'Selección Abreviada servicios de Salud',\n",
       "       'Contratación Mínima Cuantía',\n",
       "       'Selección Abreviada de Menor Cuantía (Ley 1150 de 2007)',\n",
       "       'Licitación obra pública', 'Concurso de Méritos Abierto',\n",
       "       'Licitación Pública', 'Subasta', 'Asociación Público Privada',\n",
       "       'Concurso de Méritos con Lista Corta',\n",
       "       'Selección Abreviada del literal h del numeral 2 del artículo 2 de la Ley 1150 de 2007',\n",
       "       'Concurso de diseño Arquitectónico',\n",
       "       'Otras Formas de Contratación Directa'], dtype=object)"
      ]
     },
     "execution_count": 8,
     "metadata": {},
     "output_type": "execute_result"
    }
   ],
   "source": [
    "df_s1['MODALIDAD DE CONTRATACION'].unique()"
   ]
  },
  {
   "cell_type": "code",
   "execution_count": 9,
   "metadata": {},
   "outputs": [
    {
     "data": {
      "text/html": [
       "<div>\n",
       "<style scoped>\n",
       "    .dataframe tbody tr th:only-of-type {\n",
       "        vertical-align: middle;\n",
       "    }\n",
       "\n",
       "    .dataframe tbody tr th {\n",
       "        vertical-align: top;\n",
       "    }\n",
       "\n",
       "    .dataframe thead th {\n",
       "        text-align: right;\n",
       "    }\n",
       "</style>\n",
       "<table border=\"1\" class=\"dataframe\">\n",
       "  <thead>\n",
       "    <tr style=\"text-align: right;\">\n",
       "      <th></th>\n",
       "      <th>NUMERO DE CONTRATO</th>\n",
       "      <th>Porcentaje_de_Participacion</th>\n",
       "    </tr>\n",
       "    <tr>\n",
       "      <th>MODALIDAD DE CONTRATACION</th>\n",
       "      <th></th>\n",
       "      <th></th>\n",
       "    </tr>\n",
       "  </thead>\n",
       "  <tbody>\n",
       "    <tr>\n",
       "      <th>Contratación Directa (Ley 1150 de 2007)</th>\n",
       "      <td>222675</td>\n",
       "      <td>64.749927</td>\n",
       "    </tr>\n",
       "    <tr>\n",
       "      <th>Contratación Mínima Cuantía</th>\n",
       "      <td>51343</td>\n",
       "      <td>14.929631</td>\n",
       "    </tr>\n",
       "    <tr>\n",
       "      <th>Régimen Especial</th>\n",
       "      <td>35536</td>\n",
       "      <td>10.333236</td>\n",
       "    </tr>\n",
       "    <tr>\n",
       "      <th>Contratos y convenios con más de dos partes</th>\n",
       "      <td>16847</td>\n",
       "      <td>4.898808</td>\n",
       "    </tr>\n",
       "    <tr>\n",
       "      <th>Selección Abreviada de Menor Cuantía (Ley 1150 de 2007)</th>\n",
       "      <td>7989</td>\n",
       "      <td>2.323059</td>\n",
       "    </tr>\n",
       "    <tr>\n",
       "      <th>Subasta</th>\n",
       "      <td>3155</td>\n",
       "      <td>0.917418</td>\n",
       "    </tr>\n",
       "    <tr>\n",
       "      <th>Concurso de Méritos Abierto</th>\n",
       "      <td>2690</td>\n",
       "      <td>0.782204</td>\n",
       "    </tr>\n",
       "    <tr>\n",
       "      <th>Licitación obra pública</th>\n",
       "      <td>2189</td>\n",
       "      <td>0.636522</td>\n",
       "    </tr>\n",
       "    <tr>\n",
       "      <th>Licitación Pública</th>\n",
       "      <td>1281</td>\n",
       "      <td>0.372492</td>\n",
       "    </tr>\n",
       "    <tr>\n",
       "      <th>Selección Abreviada del literal h del numeral 2 del artículo 2 de la Ley 1150 de 2007</th>\n",
       "      <td>95</td>\n",
       "      <td>0.027624</td>\n",
       "    </tr>\n",
       "    <tr>\n",
       "      <th>Selección Abreviada servicios de Salud</th>\n",
       "      <td>71</td>\n",
       "      <td>0.020646</td>\n",
       "    </tr>\n",
       "    <tr>\n",
       "      <th>Asociación Público Privada</th>\n",
       "      <td>19</td>\n",
       "      <td>0.005525</td>\n",
       "    </tr>\n",
       "    <tr>\n",
       "      <th>Concurso de Méritos con Lista Corta</th>\n",
       "      <td>6</td>\n",
       "      <td>0.001745</td>\n",
       "    </tr>\n",
       "    <tr>\n",
       "      <th>Concurso de diseño Arquitectónico</th>\n",
       "      <td>3</td>\n",
       "      <td>0.000872</td>\n",
       "    </tr>\n",
       "    <tr>\n",
       "      <th>Otras Formas de Contratación Directa</th>\n",
       "      <td>1</td>\n",
       "      <td>0.000291</td>\n",
       "    </tr>\n",
       "  </tbody>\n",
       "</table>\n",
       "</div>"
      ],
      "text/plain": [
       "                                                    NUMERO DE CONTRATO  \\\n",
       "MODALIDAD DE CONTRATACION                                                \n",
       "Contratación Directa (Ley 1150 de 2007)                         222675   \n",
       "Contratación Mínima Cuantía                                      51343   \n",
       "Régimen Especial                                                 35536   \n",
       "Contratos y convenios con más de dos partes                      16847   \n",
       "Selección Abreviada de Menor Cuantía (Ley 1150 ...                7989   \n",
       "Subasta                                                           3155   \n",
       "Concurso de Méritos Abierto                                       2690   \n",
       "Licitación obra pública                                           2189   \n",
       "Licitación Pública                                                1281   \n",
       "Selección Abreviada del literal h del numeral 2...                  95   \n",
       "Selección Abreviada servicios de Salud                              71   \n",
       "Asociación Público Privada                                          19   \n",
       "Concurso de Méritos con Lista Corta                                  6   \n",
       "Concurso de diseño Arquitectónico                                    3   \n",
       "Otras Formas de Contratación Directa                                 1   \n",
       "\n",
       "                                                    Porcentaje_de_Participacion  \n",
       "MODALIDAD DE CONTRATACION                                                        \n",
       "Contratación Directa (Ley 1150 de 2007)                               64.749927  \n",
       "Contratación Mínima Cuantía                                           14.929631  \n",
       "Régimen Especial                                                      10.333236  \n",
       "Contratos y convenios con más de dos partes                            4.898808  \n",
       "Selección Abreviada de Menor Cuantía (Ley 1150 ...                     2.323059  \n",
       "Subasta                                                                0.917418  \n",
       "Concurso de Méritos Abierto                                            0.782204  \n",
       "Licitación obra pública                                                0.636522  \n",
       "Licitación Pública                                                     0.372492  \n",
       "Selección Abreviada del literal h del numeral 2...                     0.027624  \n",
       "Selección Abreviada servicios de Salud                                 0.020646  \n",
       "Asociación Público Privada                                             0.005525  \n",
       "Concurso de Méritos con Lista Corta                                    0.001745  \n",
       "Concurso de diseño Arquitectónico                                      0.000872  \n",
       "Otras Formas de Contratación Directa                                   0.000291  "
      ]
     },
     "execution_count": 9,
     "metadata": {},
     "output_type": "execute_result"
    }
   ],
   "source": [
    "modalidad_s1_agrupados = pd.DataFrame(df_s1.groupby('MODALIDAD DE CONTRATACION')['NUMERO DE CONTRATO'].count()).sort_values('NUMERO DE CONTRATO',ascending=False).assign(Porcentaje_de_Participacion=lambda x: (x['NUMERO DE CONTRATO'] / x['NUMERO DE CONTRATO'].sum()) * 100)\n",
    "\n",
    "modalidad_s1_agrupados"
   ]
  },
  {
   "cell_type": "markdown",
   "metadata": {},
   "source": [
    "Al hacer esta verificación se puede evidenciar que diferentes modalidades se podrían agrupar en categorías para facilidad de análisis, \n",
    "\n",
    "(i) La categorías de 'Contratación Directa (Ley 1150 de 2007)' y 'Otras Formas de Contratación Directa' se dejarán como 'Contratación Directa'. \n",
    "\n",
    "(ii) Las diferentes selecciones abreviadas y la subasta y las agruparemos en una gran categoría llamada \"Selección Abreviada\". \n",
    "\n",
    "(iii) Agruparemos los diferentes concursos de méritos en una sóla categoría llamada \"Concurso de Méritos\".\n",
    "\n",
    "(iv) Unificaremos la licitación obra pública junto con la licitación pública y la dejaremos como una única categoría de licitación pública.\n",
    "\n",
    "Sin embargo, no dejaremos perder la columna original con las modalidades de contratación, por lo cual crearemos una nueva llamada \"MODALIDAD GENERAL\""
   ]
  },
  {
   "cell_type": "code",
   "execution_count": 10,
   "metadata": {},
   "outputs": [
    {
     "name": "stderr",
     "output_type": "stream",
     "text": [
      "C:\\Windows\\Temp\\ipykernel_23284\\3838184372.py:1: SettingWithCopyWarning: \n",
      "A value is trying to be set on a copy of a slice from a DataFrame.\n",
      "Try using .loc[row_indexer,col_indexer] = value instead\n",
      "\n",
      "See the caveats in the documentation: https://pandas.pydata.org/pandas-docs/stable/user_guide/indexing.html#returning-a-view-versus-a-copy\n",
      "  df_s1['MODALIDAD GENERAL']=df_s1['MODALIDAD DE CONTRATACION']\n"
     ]
    }
   ],
   "source": [
    "df_s1['MODALIDAD GENERAL']=df_s1['MODALIDAD DE CONTRATACION']"
   ]
  },
  {
   "cell_type": "code",
   "execution_count": 11,
   "metadata": {},
   "outputs": [
    {
     "name": "stderr",
     "output_type": "stream",
     "text": [
      "C:\\Windows\\Temp\\ipykernel_23284\\4008672994.py:10: FutureWarning: A value is trying to be set on a copy of a DataFrame or Series through chained assignment using an inplace method.\n",
      "The behavior will change in pandas 3.0. This inplace method will never work because the intermediate object on which we are setting values always behaves as a copy.\n",
      "\n",
      "For example, when doing 'df[col].method(value, inplace=True)', try using 'df.method({col: value}, inplace=True)' or df[col] = df[col].method(value) instead, to perform the operation inplace on the original object.\n",
      "\n",
      "\n",
      "  df_s1['MODALIDAD GENERAL'].replace(reemplazos_modalidad_s1, inplace=True)\n",
      "C:\\Windows\\Temp\\ipykernel_23284\\4008672994.py:10: SettingWithCopyWarning: \n",
      "A value is trying to be set on a copy of a slice from a DataFrame\n",
      "\n",
      "See the caveats in the documentation: https://pandas.pydata.org/pandas-docs/stable/user_guide/indexing.html#returning-a-view-versus-a-copy\n",
      "  df_s1['MODALIDAD GENERAL'].replace(reemplazos_modalidad_s1, inplace=True)\n"
     ]
    }
   ],
   "source": [
    "reemplazos_modalidad_s1 = {'Contratación Directa (Ley 1150 de 2007)': 'Contratación Directa',\n",
    "    'Otras Formas de Contratación Directa':'Contratación Directa',\n",
    "    'Selección Abreviada de Menor Cuantía (Ley 1150 de 2007)': 'Selección Abreviada',\n",
    "    'Selección Abreviada del literal h del numeral 2 del artículo 2 de la Ley 1150 de 2007': 'Selección Abreviada',\n",
    "    'Subasta': 'Selección Abreviada', 'Selección Abreviada servicios de Salud': 'Selección Abreviada',\n",
    "    'Concurso de Méritos Abierto':'Concurso de Méritos' , 'Concurso de Méritos con Lista Corta':'Concurso de Méritos',\n",
    "    'Licitación obra pública':'Licitación Pública'\n",
    "}\n",
    "\n",
    "df_s1['MODALIDAD GENERAL'].replace(reemplazos_modalidad_s1, inplace=True)\n"
   ]
  },
  {
   "cell_type": "markdown",
   "metadata": {},
   "source": [
    "Verificamos los reemplazos realizados"
   ]
  },
  {
   "cell_type": "code",
   "execution_count": 12,
   "metadata": {},
   "outputs": [
    {
     "data": {
      "text/plain": [
       "array(['Contratos y convenios con más de dos partes',\n",
       "       'Contratación Directa', 'Régimen Especial', 'Selección Abreviada',\n",
       "       'Contratación Mínima Cuantía', 'Licitación Pública',\n",
       "       'Concurso de Méritos', 'Asociación Público Privada',\n",
       "       'Concurso de diseño Arquitectónico'], dtype=object)"
      ]
     },
     "execution_count": 12,
     "metadata": {},
     "output_type": "execute_result"
    }
   ],
   "source": [
    "df_s1['MODALIDAD GENERAL'].unique()"
   ]
  },
  {
   "cell_type": "markdown",
   "metadata": {},
   "source": [
    "Ahora verificamos los tipos de contrato que tenemos en la base de datos"
   ]
  },
  {
   "cell_type": "code",
   "execution_count": 13,
   "metadata": {},
   "outputs": [
    {
     "data": {
      "text/plain": [
       "array(['Prestación de Servicios', 'Suministro', 'Consultoría',\n",
       "       'Otro Tipo de Contrato', 'Arrendamiento', 'Obra', 'Compraventa',\n",
       "       'Agregación de Demanda', 'Interventoría', 'Comodato', 'Fiducia',\n",
       "       'No Definido', 'Acuerdo Marco', 'Crédito', 'Concesión'],\n",
       "      dtype=object)"
      ]
     },
     "execution_count": 13,
     "metadata": {},
     "output_type": "execute_result"
    }
   ],
   "source": [
    "df_s1['TIPO DE CONTRATO'].unique()"
   ]
  },
  {
   "cell_type": "markdown",
   "metadata": {},
   "source": [
    "Verificamos la distribución de los tipos de contrato"
   ]
  },
  {
   "cell_type": "code",
   "execution_count": 14,
   "metadata": {},
   "outputs": [
    {
     "data": {
      "text/html": [
       "<div>\n",
       "<style scoped>\n",
       "    .dataframe tbody tr th:only-of-type {\n",
       "        vertical-align: middle;\n",
       "    }\n",
       "\n",
       "    .dataframe tbody tr th {\n",
       "        vertical-align: top;\n",
       "    }\n",
       "\n",
       "    .dataframe thead th {\n",
       "        text-align: right;\n",
       "    }\n",
       "</style>\n",
       "<table border=\"1\" class=\"dataframe\">\n",
       "  <thead>\n",
       "    <tr style=\"text-align: right;\">\n",
       "      <th></th>\n",
       "      <th>NUMERO DE CONTRATO</th>\n",
       "      <th>Porcentaje_de_Participacion</th>\n",
       "    </tr>\n",
       "    <tr>\n",
       "      <th>TIPO DE CONTRATO</th>\n",
       "      <th></th>\n",
       "      <th></th>\n",
       "    </tr>\n",
       "  </thead>\n",
       "  <tbody>\n",
       "    <tr>\n",
       "      <th>Prestación de Servicios</th>\n",
       "      <td>264956</td>\n",
       "      <td>77.044490</td>\n",
       "    </tr>\n",
       "    <tr>\n",
       "      <th>Suministro</th>\n",
       "      <td>29380</td>\n",
       "      <td>8.543181</td>\n",
       "    </tr>\n",
       "    <tr>\n",
       "      <th>Otro Tipo de Contrato</th>\n",
       "      <td>17141</td>\n",
       "      <td>4.984298</td>\n",
       "    </tr>\n",
       "    <tr>\n",
       "      <th>Obra</th>\n",
       "      <td>13576</td>\n",
       "      <td>3.947659</td>\n",
       "    </tr>\n",
       "    <tr>\n",
       "      <th>Compraventa</th>\n",
       "      <td>9954</td>\n",
       "      <td>2.894446</td>\n",
       "    </tr>\n",
       "    <tr>\n",
       "      <th>Interventoría</th>\n",
       "      <td>3029</td>\n",
       "      <td>0.880779</td>\n",
       "    </tr>\n",
       "    <tr>\n",
       "      <th>Arrendamiento</th>\n",
       "      <td>2566</td>\n",
       "      <td>0.746147</td>\n",
       "    </tr>\n",
       "    <tr>\n",
       "      <th>Consultoría</th>\n",
       "      <td>2534</td>\n",
       "      <td>0.736842</td>\n",
       "    </tr>\n",
       "    <tr>\n",
       "      <th>Comodato</th>\n",
       "      <td>382</td>\n",
       "      <td>0.111079</td>\n",
       "    </tr>\n",
       "    <tr>\n",
       "      <th>Acuerdo Marco</th>\n",
       "      <td>139</td>\n",
       "      <td>0.040419</td>\n",
       "    </tr>\n",
       "    <tr>\n",
       "      <th>Concesión</th>\n",
       "      <td>87</td>\n",
       "      <td>0.025298</td>\n",
       "    </tr>\n",
       "    <tr>\n",
       "      <th>Crédito</th>\n",
       "      <td>74</td>\n",
       "      <td>0.021518</td>\n",
       "    </tr>\n",
       "    <tr>\n",
       "      <th>No Definido</th>\n",
       "      <td>42</td>\n",
       "      <td>0.012213</td>\n",
       "    </tr>\n",
       "    <tr>\n",
       "      <th>Fiducia</th>\n",
       "      <td>31</td>\n",
       "      <td>0.009014</td>\n",
       "    </tr>\n",
       "    <tr>\n",
       "      <th>Agregación de Demanda</th>\n",
       "      <td>9</td>\n",
       "      <td>0.002617</td>\n",
       "    </tr>\n",
       "  </tbody>\n",
       "</table>\n",
       "</div>"
      ],
      "text/plain": [
       "                         NUMERO DE CONTRATO  Porcentaje_de_Participacion\n",
       "TIPO DE CONTRATO                                                        \n",
       "Prestación de Servicios              264956                    77.044490\n",
       "Suministro                            29380                     8.543181\n",
       "Otro Tipo de Contrato                 17141                     4.984298\n",
       "Obra                                  13576                     3.947659\n",
       "Compraventa                            9954                     2.894446\n",
       "Interventoría                          3029                     0.880779\n",
       "Arrendamiento                          2566                     0.746147\n",
       "Consultoría                            2534                     0.736842\n",
       "Comodato                                382                     0.111079\n",
       "Acuerdo Marco                           139                     0.040419\n",
       "Concesión                                87                     0.025298\n",
       "Crédito                                  74                     0.021518\n",
       "No Definido                              42                     0.012213\n",
       "Fiducia                                  31                     0.009014\n",
       "Agregación de Demanda                     9                     0.002617"
      ]
     },
     "execution_count": 14,
     "metadata": {},
     "output_type": "execute_result"
    }
   ],
   "source": [
    "tipo_contrato_s1_agrupados = pd.DataFrame(df_s1.groupby('TIPO DE CONTRATO')['NUMERO DE CONTRATO'].count()).sort_values('NUMERO DE CONTRATO', ascending=False).assign(Porcentaje_de_Participacion=lambda x: (x['NUMERO DE CONTRATO'] / x['NUMERO DE CONTRATO'].sum()) * 100)\n",
    "\n",
    "tipo_contrato_s1_agrupados"
   ]
  },
  {
   "cell_type": "markdown",
   "metadata": {},
   "source": [
    "Para el presente ejercicio vamos a considerar la totalidad de los tipos de contrato, la única categoría que debe estudiarse a detalle es la de \"No definido\", debido a que puede ser cualquiera de las demás categorías, esto se verifica de manera manual para cada objeto contractual."
   ]
  },
  {
   "cell_type": "markdown",
   "metadata": {},
   "source": [
    "Es importante que la base de datos no cuente con información imprecisa, algunos contratos puede que aùn en un estado activo pueda que no tengan un proveedor adjudicado, por lo cual se debe verificar esto ya que requerimos informaciòn de los proveedores o contratistas para nuestro problema a resolver. \n",
    "\n",
    "Inicialmente, debemos revisar el tipo de datos para la columna 'NOM RAZON SOCIAL CONTRATISTA'"
   ]
  },
  {
   "cell_type": "code",
   "execution_count": 15,
   "metadata": {},
   "outputs": [
    {
     "name": "stdout",
     "output_type": "stream",
     "text": [
      "Tipo de dato: object\n"
     ]
    }
   ],
   "source": [
    "tipo_dato = df_s1['NOM RAZON SOCIAL CONTRATISTA'].dtype\n",
    "print(\"Tipo de dato:\", tipo_dato)"
   ]
  },
  {
   "cell_type": "markdown",
   "metadata": {},
   "source": [
    "A continuación, se verificará si algún contrato no tiene un contratista adjudicado, debemos eliminarlo de la base de datos, pero se debe pasar primero a cadena de texto"
   ]
  },
  {
   "cell_type": "code",
   "execution_count": 16,
   "metadata": {},
   "outputs": [
    {
     "name": "stdout",
     "output_type": "stream",
     "text": [
      "Valores vacíos: Empty DataFrame\n",
      "Columns: [UID, ANNO CARGUE SECOP, ANNO FIRMA CONTRATO, NIVEL ENTIDAD, ORDEN ENTIDAD, NOMBRE ENTIDAD, NIT DE LA ENTIDAD, CÓDIGO DE LA ENTIDAD, ID MODALIDAD, MODALIDAD DE CONTRATACION, ESTADO DEL PROCESO, CAUSAL DE OTRAS FORMAS DE CONTRATACION DIRECTA, ID REGIMEN DE CONTRATACION, NOMBRE REGIMEN DE CONTRATACION, ID OBJETO A CONTRATAR, OBJETO A CONTRATAR, DETALLE DEL OBJETO A CONTRATAR, TIPO DE CONTRATO, MUNICIPIO DE OBTENCION, MUNICIPIO DE ENTREGA, MUNICIPIOS EJECUCION, FECHA DE CARGUE EN EL SECOP, NUMERO DE CONSTANCIA, NUMERO DE PROCESO, NUMERO DE CONTRATO, CUANTIA PROCESO, ID GRUPO, NOMBRE GRUPO, ID FAMILIA, NOMBRE FAMILIA, ID CLASE, NOMBRE CLASE, ID ADJUDICACION, TIPO IDENTIFI DEL CONTRATISTA, IDENTIFICACION DEL CONTRATISTA, NOM RAZON SOCIAL CONTRATISTA, DPTO Y MUNI CONTRATISTA, TIPO DOC REPRESENTANTE LEGAL, IDENTIFIC REPRESENTANTE LEGAL, NOMBRE DEL REPRESEN LEGAL, FECHA DE FIRMA DEL CONTRATO, FECHA INI EJEC CONTRATO, PLAZO DE EJEC DEL CONTRATO, RANGO DE EJEC DEL CONTRATO, TIEMPO ADICIONES EN DIAS, TIEMPO ADICIONES EN MESES, FECHA FIN EJEC CONTRATO, COMPROMISO PRESUPUESTAL, CUANTIA CONTRATO, VALOR TOTAL DE ADICIONES, VALOR CONTRATO CON ADICIONES, OBJETO DEL CONTRATO A LA FIRMA, PROPONENTES SELECCIONADOS, CALIFICACION DEFINITIVA, ID SUB UNIDAD EJECUTORA, NOMBRE SUB UNIDAD EJECUTORA, RUTA PROCESO EN SECOP I, MONEDA, ES POSTCONFLICTO, MARCACION ADICIONES, POSICION RUBRO, NOMBRE RUBRO, VALOR RUBRO, SEXO REPLEGAL, PILAR ACUERDO PAZ, PUNTO ACUERDO PAZ, MUNICIPIO ENTIDAD, DEPARTAMENTO ENTIDAD, ULTIMA ACTUALIZACION, FECHA LIQUIDACION, CUMPLE DECRETO 248, INCLUYEBIENESDECRETO248, MODALIDAD GENERAL]\n",
      "Index: []\n",
      "\n",
      "[0 rows x 73 columns]\n"
     ]
    },
    {
     "name": "stderr",
     "output_type": "stream",
     "text": [
      "C:\\Windows\\Temp\\ipykernel_23284\\2311081096.py:2: SettingWithCopyWarning: \n",
      "A value is trying to be set on a copy of a slice from a DataFrame.\n",
      "Try using .loc[row_indexer,col_indexer] = value instead\n",
      "\n",
      "See the caveats in the documentation: https://pandas.pydata.org/pandas-docs/stable/user_guide/indexing.html#returning-a-view-versus-a-copy\n",
      "  df_s1['NOM RAZON SOCIAL CONTRATISTA'] = df_s1['NOM RAZON SOCIAL CONTRATISTA'].astype(str)\n"
     ]
    }
   ],
   "source": [
    "# Convertir la columna 'NOM RAZON SOCIAL CONTRATISTA' a cadena (str)\n",
    "df_s1['NOM RAZON SOCIAL CONTRATISTA'] = df_s1['NOM RAZON SOCIAL CONTRATISTA'].astype(str)\n",
    "\n",
    "# Verificar si hay valores vacíos en la columna 'NOM RAZON SOCIAL CONTRATISTA'\n",
    "valores_vacios = df_s1[df_s1['NOM RAZON SOCIAL CONTRATISTA'] == '']\n",
    "print(\"Valores vacíos:\", valores_vacios)"
   ]
  },
  {
   "cell_type": "markdown",
   "metadata": {},
   "source": [
    "Ahora vamos a revisar las fechas de firma de los contratos, es necesario que las fechas de los tres conjuntos de datos que integraremos se encuentren en el mismo formato, por lo cual definiremos esto para cada uno de ellos mediante la función pd.to.datetime para los datos de fecha que nos puedan interesar. En este caso se modifica la columna \"FECHA DE FIRMA DEL CONTRATO\"."
   ]
  },
  {
   "cell_type": "code",
   "execution_count": 17,
   "metadata": {},
   "outputs": [
    {
     "data": {
      "text/plain": [
       "0    01/01/2023\n",
       "1    01/01/2023\n",
       "2    01/01/2023\n",
       "3    01/01/2023\n",
       "4    01/01/2023\n",
       "Name: FECHA DE FIRMA DEL CONTRATO, dtype: object"
      ]
     },
     "execution_count": 17,
     "metadata": {},
     "output_type": "execute_result"
    }
   ],
   "source": [
    "df_s1['FECHA DE FIRMA DEL CONTRATO'].head()"
   ]
  },
  {
   "cell_type": "markdown",
   "metadata": {},
   "source": [
    "Vemos a continuación que el formato de fecha se presenta de la siguiente forma  \"dd/mm/yyyy\", mientras que pd.to_datetime() asume el formato por defecto \"mm/dd/yyyy\". Por lo cual se debe ajustar la función con este criterio"
   ]
  },
  {
   "cell_type": "code",
   "execution_count": 18,
   "metadata": {},
   "outputs": [
    {
     "name": "stdout",
     "output_type": "stream",
     "text": [
      "Formato de fecha de firma del contrato inicial: object\n",
      "Formato de fecha de firma del contrato después del cambio de formato: datetime64[ns]\n"
     ]
    },
    {
     "name": "stderr",
     "output_type": "stream",
     "text": [
      "C:\\Windows\\Temp\\ipykernel_23284\\2108634684.py:2: SettingWithCopyWarning: \n",
      "A value is trying to be set on a copy of a slice from a DataFrame.\n",
      "Try using .loc[row_indexer,col_indexer] = value instead\n",
      "\n",
      "See the caveats in the documentation: https://pandas.pydata.org/pandas-docs/stable/user_guide/indexing.html#returning-a-view-versus-a-copy\n",
      "  df_s1['FECHA DE FIRMA DEL CONTRATO'] = pd.to_datetime(df_s1['FECHA DE FIRMA DEL CONTRATO'], format='%d/%m/%Y')\n"
     ]
    }
   ],
   "source": [
    "print(f'Formato de fecha de firma del contrato inicial: {df_s1['FECHA DE FIRMA DEL CONTRATO'].dtype}')\n",
    "df_s1['FECHA DE FIRMA DEL CONTRATO'] = pd.to_datetime(df_s1['FECHA DE FIRMA DEL CONTRATO'], format='%d/%m/%Y')\n",
    "print(f'Formato de fecha de firma del contrato después del cambio de formato: {df_s1['FECHA DE FIRMA DEL CONTRATO'].dtype}')"
   ]
  },
  {
   "cell_type": "code",
   "execution_count": 19,
   "metadata": {},
   "outputs": [
    {
     "data": {
      "text/plain": [
       "0   2023-01-01\n",
       "1   2023-01-01\n",
       "2   2023-01-01\n",
       "3   2023-01-01\n",
       "4   2023-01-01\n",
       "Name: FECHA DE FIRMA DEL CONTRATO, dtype: datetime64[ns]"
      ]
     },
     "execution_count": 19,
     "metadata": {},
     "output_type": "execute_result"
    }
   ],
   "source": [
    "df_s1['FECHA DE FIRMA DEL CONTRATO'].head()"
   ]
  },
  {
   "cell_type": "markdown",
   "metadata": {},
   "source": [
    "Estos archivos csv se descargaron en marzo de 2024 por lo cual debemos filtrar la información para analizar el comportamiento para 2023 únicamente"
   ]
  },
  {
   "cell_type": "code",
   "execution_count": 20,
   "metadata": {},
   "outputs": [
    {
     "name": "stdout",
     "output_type": "stream",
     "text": [
      "Tamaño del set antes de segmentar a 2023: (343912, 73)\n",
      "Tamaño del set 2023: (302628, 73)\n"
     ]
    }
   ],
   "source": [
    "print(f'Tamaño del set antes de segmentar a 2023: {df_s1.shape}')\n",
    "df_s1 = df_s1[df_s1['FECHA DE FIRMA DEL CONTRATO'].dt.year == 2023]\n",
    "print(f'Tamaño del set 2023: {df_s1.shape}')"
   ]
  },
  {
   "cell_type": "markdown",
   "metadata": {},
   "source": [
    "Ahora, por algunos aspectos de la paltaforma es probable que algunos contratos se dupliquen en la base de datos inicial, por lo cual debemos eliminar todos los contratos duplicados para evitar inconsistencias en nuestro análisis. Tendremos la columna 'NUMERO DE CONTRATO' para verificar los datos duplicados. Este paso prefereiblemente se debe realizar al principio, ya que algunas depuraciones o transformaciones que se hicieron inicialmente a la base de datos no las hubieramos tenido que hacer al eliminar valores duplicados. "
   ]
  },
  {
   "cell_type": "markdown",
   "metadata": {},
   "source": [
    "Es importante aclarar que los nùmeros de contrato pueden ser iguales para distintas entidades estatales, por ejemplo, una entidad estatal puede generar el contrato de prestación de servicios CPS-001-2023, por lo cual si eliminamos los repetidos, nos puede eliminar contratos reales de otras entidades y nos sesgan el análsiis. Necesitamos entonces generar un identificador por entidad para cada contrato, concatenando las columnas del nombre de la entidad con el número de contrato registrado."
   ]
  },
  {
   "cell_type": "code",
   "execution_count": 21,
   "metadata": {},
   "outputs": [],
   "source": [
    "df_s1['NUMERO DE CONTRATO UNICO'] = df_s1['NOMBRE ENTIDAD'] + df_s1['NUMERO DE CONTRATO']"
   ]
  },
  {
   "cell_type": "markdown",
   "metadata": {},
   "source": [
    "Ahora podremos eliminar los numeros de contrato duplicados con base en la nueva columna 'NUMERO DE CONTRATO UNICO' "
   ]
  },
  {
   "cell_type": "code",
   "execution_count": 22,
   "metadata": {},
   "outputs": [
    {
     "name": "stdout",
     "output_type": "stream",
     "text": [
      "Tamaño del set antes de eliminar los contratos Repetidos: (302628, 74) \n",
      "Tamaño del set después de eliminar los contratos Repetidos: (297435, 74)\n"
     ]
    }
   ],
   "source": [
    "print(f'Tamaño del set antes de eliminar los contratos Repetidos: {df_s1.shape} ')\n",
    "df_s1.drop_duplicates(subset='NUMERO DE CONTRATO UNICO', keep='first', inplace=True)\n",
    "print(f'Tamaño del set después de eliminar los contratos Repetidos: {df_s1.shape}')"
   ]
  },
  {
   "cell_type": "markdown",
   "metadata": {},
   "source": [
    "En cuanto al valor de los contratos, se debe revisar si alguna entidad ha cometido alguna impresición en el valor del contrato registrado, por lo cual debemos revisar en un diagrama de caja (boxplot), y sirve para visualizar la distribución de un conjunto de datos numéricos y para identificar la presencia de valores atípicos"
   ]
  },
  {
   "cell_type": "code",
   "execution_count": 23,
   "metadata": {},
   "outputs": [
    {
     "data": {
      "image/png": "[encoded data removed]",
      "text/plain": [
       "<Figure size 640x480 with 1 Axes>"
      ]
     },
     "metadata": {},
     "output_type": "display_data"
    }
   ],
   "source": [
    "plot= sns.set_style(\"whitegrid\")\n",
    "ax=sns.boxplot(x=df_s1['CUANTIA CONTRATO'])\n",
    "plot"
   ]
  },
  {
   "cell_type": "markdown",
   "metadata": {},
   "source": [
    "Identificamos una concentración mayoritariamente entre 0 y 100 mil millones de pesos para el valor de los contratos, debemos verificar los valores que no estén dentro de este rango para cerciorarnos que las cifras no presentan inconsistencias"
   ]
  },
  {
   "cell_type": "code",
   "execution_count": 24,
   "metadata": {},
   "outputs": [
    {
     "data": {
      "text/plain": [
       "(14, 74)"
      ]
     },
     "execution_count": 24,
     "metadata": {},
     "output_type": "execute_result"
    }
   ],
   "source": [
    "df_s1_out=df_s1[df_s1['CUANTIA CONTRATO']>=100000000000]\n",
    "\n",
    "df_s1_out.shape"
   ]
  },
  {
   "cell_type": "markdown",
   "metadata": {},
   "source": [
    "Se pueden identificar entonces 22 contratos que presentan valores de contratos atípicos, por lo cual debemos revisar directamente de la fuente de datos si realmente ese es el valor. "
   ]
  },
  {
   "cell_type": "code",
   "execution_count": 25,
   "metadata": {},
   "outputs": [
    {
     "data": {
      "text/plain": [
       "110       https://www.contratos.gov.co/consultas/detalle...\n",
       "309       https://www.contratos.gov.co/consultas/detalle...\n",
       "351       https://www.contratos.gov.co/consultas/detalle...\n",
       "921       https://www.contratos.gov.co/consultas/detalle...\n",
       "60989     https://www.contratos.gov.co/consultas/detalle...\n",
       "86047     https://www.contratos.gov.co/consultas/detalle...\n",
       "124644    https://www.contratos.gov.co/consultas/detalle...\n",
       "161026    https://www.contratos.gov.co/consultas/detalle...\n",
       "182513    https://www.contratos.gov.co/consultas/detalle...\n",
       "205063    https://www.contratos.gov.co/consultas/detalle...\n",
       "244824    https://www.contratos.gov.co/consultas/detalle...\n",
       "259552    https://www.contratos.gov.co/consultas/detalle...\n",
       "274645    https://www.contratos.gov.co/consultas/detalle...\n",
       "297118    https://www.contratos.gov.co/consultas/detalle...\n",
       "Name: RUTA PROCESO EN SECOP I, dtype: object"
      ]
     },
     "execution_count": 25,
     "metadata": {},
     "output_type": "execute_result"
    }
   ],
   "source": [
    "df_s1_out['RUTA PROCESO EN SECOP I']"
   ]
  },
  {
   "cell_type": "markdown",
   "metadata": {},
   "source": [
    "Una vez revisados, se identfica que no son errores, por lo cual podemos continuar con el análisis."
   ]
  },
  {
   "cell_type": "markdown",
   "metadata": {},
   "source": [
    "Para estas bases de datos en particular, algunos objetos contractuales pueden contener caracteres especiales que nos pueden generar errores en la lectura de los documentos generados, por lo cual se deben transformar, primero debemos pasar este objeto contractual al formato de texto y hacer una función con expresiones regulares. \n",
    "\n",
    "La expresión regular r'[^a-zA-Z0-9\\s]' se utiliza para encontrar todos los caracteres que no son letras (mayúsculas o minúsculas), números o espacios en blanco y la aplicaremos mediante la función re.sub()"
   ]
  },
  {
   "cell_type": "code",
   "execution_count": 26,
   "metadata": {},
   "outputs": [],
   "source": [
    "df_s1['DETALLE DEL OBJETO A CONTRATAR']=df_s1['DETALLE DEL OBJETO A CONTRATAR'].astype(str)"
   ]
  },
  {
   "cell_type": "code",
   "execution_count": 27,
   "metadata": {},
   "outputs": [],
   "source": [
    "def limpiar_texto(texto):\n",
    "    texto_limpio = re.sub(r'[^a-zA-Z0-9\\s]', '', texto)\n",
    "    return texto_limpio\n",
    "\n",
    "df_s1['OBJETO CONTRACTUAL'] = df_s1['DETALLE DEL OBJETO A CONTRATAR'].apply(limpiar_texto)"
   ]
  },
  {
   "cell_type": "markdown",
   "metadata": {},
   "source": [
    "Finalmente, seleccionaremos las columnas que identificamos para unificar una base de datos consolidada junto con SECOP 2 y TVEC"
   ]
  },
  {
   "cell_type": "code",
   "execution_count": 28,
   "metadata": {},
   "outputs": [],
   "source": [
    "df_s1_integrar=df_s1[['NOMBRE ENTIDAD' , 'ESTADO DEL PROCESO', 'NUMERO DE PROCESO','NUMERO DE CONTRATO', 'OBJETO CONTRACTUAL', 'FECHA DE FIRMA DEL CONTRATO', 'IDENTIFICACION DEL CONTRATISTA', 'NOM RAZON SOCIAL CONTRATISTA', 'CUANTIA CONTRATO', 'MODALIDAD GENERAL','TIPO DE CONTRATO','RUTA PROCESO EN SECOP I']]"
   ]
  },
  {
   "cell_type": "markdown",
   "metadata": {},
   "source": [
    "- Portal de datos abiertos, conjunto de datos SECOP II - Contratos Electrónicos\n",
    "\n",
    "Se abre un archivo csv llamado Data_analytics_SECOP_2.csv con la información contractual desde el 1° de enero de 2023 a la fecha. "
   ]
  },
  {
   "cell_type": "code",
   "execution_count": 29,
   "metadata": {},
   "outputs": [
    {
     "name": "stderr",
     "output_type": "stream",
     "text": [
      "C:\\Windows\\Temp\\ipykernel_23284\\2739464640.py:1: DtypeWarning: Columns (21,22) have mixed types. Specify dtype option on import or set low_memory=False.\n",
      "  df_s2_inicial=pd.read_csv('C:\\\\Users\\\\danie\\\\OneDrive\\\\Escritorio\\\\Proyecto análisis de datos\\\\Data_analytics_SECOP_2.csv')\n"
     ]
    },
    {
     "name": "stdout",
     "output_type": "stream",
     "text": [
      "['NOMBRE ENTIDAD', 'NIT ENTIDAD', 'DEPARTAMENTO', 'CIUDAD', 'LOCALIZACIÓN', 'ORDEN', 'SECTOR', 'RAMA', 'ENTIDAD CENTRALIZADA', 'PROCESO DE COMPRA', 'ID CONTRATO', 'REFERENCIA DEL CONTRATO', 'ESTADO CONTRATO', 'CODIGO DE CATEGORIA PRINCIPAL', 'DESCRIPCION DEL PROCESO', 'TIPO DE CONTRATO', 'MODALIDAD DE CONTRATACION', 'JUSTIFICACION MODALIDAD DE CONTRATACION', 'FECHA DE FIRMA', 'FECHA DE INICIO DEL CONTRATO', 'FECHA DE FIN DEL CONTRATO', 'FECHA DE INICIO DE EJECUCION', 'FECHA DE FIN DE EJECUCION', 'CONDICIONES DE ENTREGA', 'TIPODOCPROVEEDOR', 'DOCUMENTO PROVEEDOR', 'PROVEEDOR ADJUDICADO', 'ES GRUPO', 'ES PYME', 'HABILITA PAGO ADELANTADO', 'LIQUIDACIÓN', 'OBLIGACIÓN AMBIENTAL', 'OBLIGACIONES POSTCONSUMO', 'REVERSION', 'ORIGEN DE LOS RECURSOS', 'DESTINO GASTO', 'VALOR DEL CONTRATO', 'VALOR DE PAGO ADELANTADO', 'VALOR FACTURADO', 'VALOR PENDIENTE DE PAGO', 'VALOR PAGADO', 'VALOR AMORTIZADO', 'VALOR PENDIENTE DE AMORTIZACION', 'VALOR PENDIENTE DE EJECUCION', 'ESTADO BPIN', 'CÓDIGO BPIN', 'ANNO BPIN', 'SALDO CDP', 'SALDO VIGENCIA', 'ESPOSTCONFLICTO', 'DIAS ADICIONADOS', 'PUNTOS DEL ACUERDO', 'PILARES DEL ACUERDO', 'URLPROCESO', 'NOMBRE REPRESENTANTE LEGAL', 'NACIONALIDAD REPRESENTANTE LEGAL', 'DOMICILIO REPRESENTANTE LEGAL', 'TIPO DE IDENTIFICACIÓN REPRESENTANTE LEGAL', 'IDENTIFICACIÓN REPRESENTANTE LEGAL', 'GÉNERO REPRESENTANTE LEGAL', 'PRESUPUESTO GENERAL DE LA NACION – PGN', 'SISTEMA GENERAL DE PARTICIPACIONES', 'SISTEMA GENERAL DE REGALÍAS', 'RECURSOS PROPIOS (ALCALDÍAS, GOBERNACIONES Y RESGUARDOS INDÍGENAS)', 'RECURSOS DE CREDITO', 'RECURSOS PROPIOS', 'ULTIMA ACTUALIZACION', 'CODIGO ENTIDAD', 'CODIGO PROVEEDOR', 'FECHA INICIO LIQUIDACION', 'FECHA FIN LIQUIDACION', 'OBJETO DEL CONTRATO']\n"
     ]
    },
    {
     "data": {
      "text/plain": [
       "(1173485, 72)"
      ]
     },
     "execution_count": 29,
     "metadata": {},
     "output_type": "execute_result"
    }
   ],
   "source": [
    "df_s2_inicial=pd.read_csv('C:\\\\Users\\\\danie\\\\OneDrive\\\\Escritorio\\\\Proyecto análisis de datos\\\\Data_analytics_SECOP_2.csv')\n",
    "\n",
    "cols=list(df_s2_inicial.columns)\n",
    "cols=[x.upper().strip() for x in cols]\n",
    "df_s2_inicial.columns=cols\n",
    "\n",
    "print(cols)\n",
    "\n",
    "df_s2_inicial.shape"
   ]
  },
  {
   "cell_type": "code",
   "execution_count": 30,
   "metadata": {},
   "outputs": [],
   "source": [
    "df_s2=df_s2_inicial"
   ]
  },
  {
   "cell_type": "markdown",
   "metadata": {},
   "source": [
    "Para este conjunto de datos vamos a eliminar inicialmente los contratos repetidos"
   ]
  },
  {
   "cell_type": "code",
   "execution_count": 31,
   "metadata": {},
   "outputs": [],
   "source": [
    "df_s2['NUMERO DE CONTRATO UNICO'] = df_s2['NOMBRE ENTIDAD'] + df_s2['REFERENCIA DEL CONTRATO']"
   ]
  },
  {
   "cell_type": "code",
   "execution_count": 32,
   "metadata": {},
   "outputs": [
    {
     "name": "stdout",
     "output_type": "stream",
     "text": [
      "Tamaño del set antes de eliminar REFERENCIA DEL CONTRATO Repetidos: (1173485, 73) \n",
      "Tamaño del set después de eliminar REFERENCIA DEL CONTRATO Repetidos: (790023, 73)\n"
     ]
    }
   ],
   "source": [
    "print(f'Tamaño del set antes de eliminar REFERENCIA DEL CONTRATO Repetidos: {df_s2.shape} ')\n",
    "df_s2.drop_duplicates(subset='REFERENCIA DEL CONTRATO', keep='first', inplace=True)\n",
    "print(f'Tamaño del set después de eliminar REFERENCIA DEL CONTRATO Repetidos: {df_s2.shape}')"
   ]
  },
  {
   "cell_type": "markdown",
   "metadata": {},
   "source": [
    "Verificamos los estados de los contratos que se pueden ver para esta base de datos de SECOP II"
   ]
  },
  {
   "cell_type": "code",
   "execution_count": 33,
   "metadata": {},
   "outputs": [
    {
     "name": "stdout",
     "output_type": "stream",
     "text": [
      "['En ejecución' 'Modificado' 'terminado' 'Cerrado' 'Activo' 'Suspendido'\n",
      " 'cedido' 'Cancelado' 'Borrador' 'enviado Proveedor']\n"
     ]
    }
   ],
   "source": [
    "print(df_s2['ESTADO CONTRATO'].unique())"
   ]
  },
  {
   "cell_type": "code",
   "execution_count": 34,
   "metadata": {},
   "outputs": [
    {
     "data": {
      "text/html": [
       "<div>\n",
       "<style scoped>\n",
       "    .dataframe tbody tr th:only-of-type {\n",
       "        vertical-align: middle;\n",
       "    }\n",
       "\n",
       "    .dataframe tbody tr th {\n",
       "        vertical-align: top;\n",
       "    }\n",
       "\n",
       "    .dataframe thead th {\n",
       "        text-align: right;\n",
       "    }\n",
       "</style>\n",
       "<table border=\"1\" class=\"dataframe\">\n",
       "  <thead>\n",
       "    <tr style=\"text-align: right;\">\n",
       "      <th></th>\n",
       "      <th>REFERENCIA DEL CONTRATO</th>\n",
       "      <th>Porcentaje_de_Participacion</th>\n",
       "    </tr>\n",
       "    <tr>\n",
       "      <th>ESTADO CONTRATO</th>\n",
       "      <th></th>\n",
       "      <th></th>\n",
       "    </tr>\n",
       "  </thead>\n",
       "  <tbody>\n",
       "    <tr>\n",
       "      <th>En ejecución</th>\n",
       "      <td>437402</td>\n",
       "      <td>55.365730</td>\n",
       "    </tr>\n",
       "    <tr>\n",
       "      <th>Modificado</th>\n",
       "      <td>184944</td>\n",
       "      <td>23.409951</td>\n",
       "    </tr>\n",
       "    <tr>\n",
       "      <th>Cerrado</th>\n",
       "      <td>71654</td>\n",
       "      <td>9.069863</td>\n",
       "    </tr>\n",
       "    <tr>\n",
       "      <th>terminado</th>\n",
       "      <td>64698</td>\n",
       "      <td>8.189382</td>\n",
       "    </tr>\n",
       "    <tr>\n",
       "      <th>Activo</th>\n",
       "      <td>24987</td>\n",
       "      <td>3.162819</td>\n",
       "    </tr>\n",
       "    <tr>\n",
       "      <th>cedido</th>\n",
       "      <td>4730</td>\n",
       "      <td>0.598717</td>\n",
       "    </tr>\n",
       "    <tr>\n",
       "      <th>Suspendido</th>\n",
       "      <td>1593</td>\n",
       "      <td>0.201640</td>\n",
       "    </tr>\n",
       "    <tr>\n",
       "      <th>Cancelado</th>\n",
       "      <td>13</td>\n",
       "      <td>0.001646</td>\n",
       "    </tr>\n",
       "    <tr>\n",
       "      <th>Borrador</th>\n",
       "      <td>1</td>\n",
       "      <td>0.000127</td>\n",
       "    </tr>\n",
       "    <tr>\n",
       "      <th>enviado Proveedor</th>\n",
       "      <td>1</td>\n",
       "      <td>0.000127</td>\n",
       "    </tr>\n",
       "  </tbody>\n",
       "</table>\n",
       "</div>"
      ],
      "text/plain": [
       "                   REFERENCIA DEL CONTRATO  Porcentaje_de_Participacion\n",
       "ESTADO CONTRATO                                                        \n",
       "En ejecución                        437402                    55.365730\n",
       "Modificado                          184944                    23.409951\n",
       "Cerrado                              71654                     9.069863\n",
       "terminado                            64698                     8.189382\n",
       "Activo                               24987                     3.162819\n",
       "cedido                                4730                     0.598717\n",
       "Suspendido                            1593                     0.201640\n",
       "Cancelado                               13                     0.001646\n",
       "Borrador                                 1                     0.000127\n",
       "enviado Proveedor                        1                     0.000127"
      ]
     },
     "execution_count": 34,
     "metadata": {},
     "output_type": "execute_result"
    }
   ],
   "source": [
    "estado_contrato_s2_agrupados = pd.DataFrame(df_s2.groupby('ESTADO CONTRATO')['REFERENCIA DEL CONTRATO'].count()).sort_values('REFERENCIA DEL CONTRATO',ascending=False).assign(Porcentaje_de_Participacion=lambda x: (x['REFERENCIA DEL CONTRATO'] / x['REFERENCIA DEL CONTRATO'].sum()) * 100)\n",
    "\n",
    "estado_contrato_s2_agrupados"
   ]
  },
  {
   "cell_type": "markdown",
   "metadata": {},
   "source": [
    "Se puede evidenciar que hay 13 contratos cancelados, 1 contrato en estado borrador y 1 contrato con el estado \"enviado proveedor\", esto técnicamente no se debe considerar, ya que estos  estados no representan contratos firmados en SECOP II, por lo cual se deben eliminar de la muestra. "
   ]
  },
  {
   "cell_type": "code",
   "execution_count": 35,
   "metadata": {},
   "outputs": [
    {
     "name": "stdout",
     "output_type": "stream",
     "text": [
      "Tamaño del set antes de eliminar los estados de contrato no deseados: (790023, 73) \n",
      "Tamaño del set después de eliminar los estados de contrato no deseados: (790008, 73)\n"
     ]
    }
   ],
   "source": [
    "print(f'Tamaño del set antes de eliminar los estados de contrato no deseados: {df_s2.shape} ')\n",
    "df_s2 = df_s2[(df_s2['ESTADO CONTRATO'] != 'Cancelado') & (df_s2['ESTADO CONTRATO'] != 'Borrador') & (df_s2['ESTADO CONTRATO'] != 'enviado Proveedor')]\n",
    "print(f'Tamaño del set después de eliminar los estados de contrato no deseados: {df_s2.shape}')"
   ]
  },
  {
   "cell_type": "markdown",
   "metadata": {},
   "source": [
    "Se verifican las diferentes modalidades de contratación que existen en esta base de datos"
   ]
  },
  {
   "cell_type": "code",
   "execution_count": 36,
   "metadata": {},
   "outputs": [
    {
     "data": {
      "text/plain": [
       "array(['Contratación régimen especial', 'Contratación directa',\n",
       "       'Contratación régimen especial (con ofertas)',\n",
       "       'Contratación Directa (con ofertas)', 'Mínima cuantía',\n",
       "       'Selección Abreviada de Menor Cuantía',\n",
       "       'Selección abreviada subasta inversa',\n",
       "       'CCE-20-Concurso_Meritos_Sin_Lista_Corta_1Sobre',\n",
       "       'Licitación pública Obra Publica', 'Licitación pública',\n",
       "       'Seleccion Abreviada Menor Cuantia Sin Manifestacion Interes',\n",
       "       'Concurso de méritos abierto', 'Enajenación de bienes con subasta',\n",
       "       'Licitación Pública Acuerdo Marco de Precios',\n",
       "       'Enajenación de bienes con sobre cerrado',\n",
       "       'CCE-19-Concurso_Meritos_Con_Lista_Corta_1Sobre', 'No Definido'],\n",
       "      dtype=object)"
      ]
     },
     "execution_count": 36,
     "metadata": {},
     "output_type": "execute_result"
    }
   ],
   "source": [
    "df_s2['MODALIDAD DE CONTRATACION'].unique()"
   ]
  },
  {
   "cell_type": "code",
   "execution_count": 37,
   "metadata": {},
   "outputs": [
    {
     "data": {
      "text/html": [
       "<div>\n",
       "<style scoped>\n",
       "    .dataframe tbody tr th:only-of-type {\n",
       "        vertical-align: middle;\n",
       "    }\n",
       "\n",
       "    .dataframe tbody tr th {\n",
       "        vertical-align: top;\n",
       "    }\n",
       "\n",
       "    .dataframe thead th {\n",
       "        text-align: right;\n",
       "    }\n",
       "</style>\n",
       "<table border=\"1\" class=\"dataframe\">\n",
       "  <thead>\n",
       "    <tr style=\"text-align: right;\">\n",
       "      <th></th>\n",
       "      <th>REFERENCIA DEL CONTRATO</th>\n",
       "      <th>Porcentaje_de_Participacion</th>\n",
       "    </tr>\n",
       "    <tr>\n",
       "      <th>MODALIDAD DE CONTRATACION</th>\n",
       "      <th></th>\n",
       "      <th></th>\n",
       "    </tr>\n",
       "  </thead>\n",
       "  <tbody>\n",
       "    <tr>\n",
       "      <th>Contratación directa</th>\n",
       "      <td>624088</td>\n",
       "      <td>78.997681</td>\n",
       "    </tr>\n",
       "    <tr>\n",
       "      <th>Contratación régimen especial</th>\n",
       "      <td>98732</td>\n",
       "      <td>12.497595</td>\n",
       "    </tr>\n",
       "    <tr>\n",
       "      <th>Mínima cuantía</th>\n",
       "      <td>32614</td>\n",
       "      <td>4.128313</td>\n",
       "    </tr>\n",
       "    <tr>\n",
       "      <th>Contratación Directa (con ofertas)</th>\n",
       "      <td>7086</td>\n",
       "      <td>0.896953</td>\n",
       "    </tr>\n",
       "    <tr>\n",
       "      <th>No Definido</th>\n",
       "      <td>6803</td>\n",
       "      <td>0.861131</td>\n",
       "    </tr>\n",
       "    <tr>\n",
       "      <th>Selección Abreviada de Menor Cuantía</th>\n",
       "      <td>6087</td>\n",
       "      <td>0.770499</td>\n",
       "    </tr>\n",
       "    <tr>\n",
       "      <th>Contratación régimen especial (con ofertas)</th>\n",
       "      <td>5174</td>\n",
       "      <td>0.654930</td>\n",
       "    </tr>\n",
       "    <tr>\n",
       "      <th>Selección abreviada subasta inversa</th>\n",
       "      <td>4968</td>\n",
       "      <td>0.628854</td>\n",
       "    </tr>\n",
       "    <tr>\n",
       "      <th>CCE-20-Concurso_Meritos_Sin_Lista_Corta_1Sobre</th>\n",
       "      <td>1659</td>\n",
       "      <td>0.209998</td>\n",
       "    </tr>\n",
       "    <tr>\n",
       "      <th>Licitación pública</th>\n",
       "      <td>1431</td>\n",
       "      <td>0.181137</td>\n",
       "    </tr>\n",
       "    <tr>\n",
       "      <th>Licitación pública Obra Publica</th>\n",
       "      <td>1032</td>\n",
       "      <td>0.130632</td>\n",
       "    </tr>\n",
       "    <tr>\n",
       "      <th>Seleccion Abreviada Menor Cuantia Sin Manifestacion Interes</th>\n",
       "      <td>128</td>\n",
       "      <td>0.016202</td>\n",
       "    </tr>\n",
       "    <tr>\n",
       "      <th>Licitación Pública Acuerdo Marco de Precios</th>\n",
       "      <td>123</td>\n",
       "      <td>0.015569</td>\n",
       "    </tr>\n",
       "    <tr>\n",
       "      <th>Enajenación de bienes con sobre cerrado</th>\n",
       "      <td>40</td>\n",
       "      <td>0.005063</td>\n",
       "    </tr>\n",
       "    <tr>\n",
       "      <th>Enajenación de bienes con subasta</th>\n",
       "      <td>33</td>\n",
       "      <td>0.004177</td>\n",
       "    </tr>\n",
       "    <tr>\n",
       "      <th>Concurso de méritos abierto</th>\n",
       "      <td>7</td>\n",
       "      <td>0.000886</td>\n",
       "    </tr>\n",
       "    <tr>\n",
       "      <th>CCE-19-Concurso_Meritos_Con_Lista_Corta_1Sobre</th>\n",
       "      <td>3</td>\n",
       "      <td>0.000380</td>\n",
       "    </tr>\n",
       "  </tbody>\n",
       "</table>\n",
       "</div>"
      ],
      "text/plain": [
       "                                                    REFERENCIA DEL CONTRATO  \\\n",
       "MODALIDAD DE CONTRATACION                                                     \n",
       "Contratación directa                                                 624088   \n",
       "Contratación régimen especial                                         98732   \n",
       "Mínima cuantía                                                        32614   \n",
       "Contratación Directa (con ofertas)                                     7086   \n",
       "No Definido                                                            6803   \n",
       "Selección Abreviada de Menor Cuantía                                   6087   \n",
       "Contratación régimen especial (con ofertas)                            5174   \n",
       "Selección abreviada subasta inversa                                    4968   \n",
       "CCE-20-Concurso_Meritos_Sin_Lista_Corta_1Sobre                         1659   \n",
       "Licitación pública                                                     1431   \n",
       "Licitación pública Obra Publica                                        1032   \n",
       "Seleccion Abreviada Menor Cuantia Sin Manifesta...                      128   \n",
       "Licitación Pública Acuerdo Marco de Precios                             123   \n",
       "Enajenación de bienes con sobre cerrado                                  40   \n",
       "Enajenación de bienes con subasta                                        33   \n",
       "Concurso de méritos abierto                                               7   \n",
       "CCE-19-Concurso_Meritos_Con_Lista_Corta_1Sobre                            3   \n",
       "\n",
       "                                                    Porcentaje_de_Participacion  \n",
       "MODALIDAD DE CONTRATACION                                                        \n",
       "Contratación directa                                                  78.997681  \n",
       "Contratación régimen especial                                         12.497595  \n",
       "Mínima cuantía                                                         4.128313  \n",
       "Contratación Directa (con ofertas)                                     0.896953  \n",
       "No Definido                                                            0.861131  \n",
       "Selección Abreviada de Menor Cuantía                                   0.770499  \n",
       "Contratación régimen especial (con ofertas)                            0.654930  \n",
       "Selección abreviada subasta inversa                                    0.628854  \n",
       "CCE-20-Concurso_Meritos_Sin_Lista_Corta_1Sobre                         0.209998  \n",
       "Licitación pública                                                     0.181137  \n",
       "Licitación pública Obra Publica                                        0.130632  \n",
       "Seleccion Abreviada Menor Cuantia Sin Manifesta...                     0.016202  \n",
       "Licitación Pública Acuerdo Marco de Precios                            0.015569  \n",
       "Enajenación de bienes con sobre cerrado                                0.005063  \n",
       "Enajenación de bienes con subasta                                      0.004177  \n",
       "Concurso de méritos abierto                                            0.000886  \n",
       "CCE-19-Concurso_Meritos_Con_Lista_Corta_1Sobre                         0.000380  "
      ]
     },
     "execution_count": 37,
     "metadata": {},
     "output_type": "execute_result"
    }
   ],
   "source": [
    "modalidad_s2_agrupados = pd.DataFrame(df_s2.groupby('MODALIDAD DE CONTRATACION')['REFERENCIA DEL CONTRATO'].count()).sort_values('REFERENCIA DEL CONTRATO',ascending=False).assign(Porcentaje_de_Participacion=lambda x: (x['REFERENCIA DEL CONTRATO'] / x['REFERENCIA DEL CONTRATO'].sum()) * 100)\n",
    "\n",
    "modalidad_s2_agrupados"
   ]
  },
  {
   "cell_type": "markdown",
   "metadata": {},
   "source": [
    "Se puede evidenciar que hay modalidades que se pueden agrupar:\n",
    "\n",
    "(i) Contratación Directa - Contratación Directa (con ofertas) - Contratación directa\n",
    "\n",
    "(ii) Selección Abreviada - Selección abreviada subasta inversa - Selección Abreviada de Menor Cuantía - Seleccion Abreviada Menor Cuantia Sin Manifestacion Interes\t\n",
    "\n",
    "(iii) Contratación régimen especial - Contratación régimen especial (con ofertas)\n",
    "\n",
    "(iv) Licitación Pública - Licitación pública Obra Publica - Licitación Pública Acuerdo Marco de Precios\n",
    "\n",
    "(v) Concurso de Méritos - CCE-20-Concurso_Meritos_Sin_Lista_Corta_1Sobre - Concurso de méritos abierto - CCE-19-Concurso_Meritos_Con_Lista_Corta_1Sobre\t\n",
    "\n",
    "Se crea otra columna para la modalidad general"
   ]
  },
  {
   "cell_type": "code",
   "execution_count": 38,
   "metadata": {},
   "outputs": [
    {
     "name": "stderr",
     "output_type": "stream",
     "text": [
      "C:\\Windows\\Temp\\ipykernel_23284\\327107175.py:1: SettingWithCopyWarning: \n",
      "A value is trying to be set on a copy of a slice from a DataFrame.\n",
      "Try using .loc[row_indexer,col_indexer] = value instead\n",
      "\n",
      "See the caveats in the documentation: https://pandas.pydata.org/pandas-docs/stable/user_guide/indexing.html#returning-a-view-versus-a-copy\n",
      "  df_s2['MODALIDAD GENERAL']=df_s2['MODALIDAD DE CONTRATACION']\n"
     ]
    }
   ],
   "source": [
    "df_s2['MODALIDAD GENERAL']=df_s2['MODALIDAD DE CONTRATACION']"
   ]
  },
  {
   "cell_type": "code",
   "execution_count": 39,
   "metadata": {},
   "outputs": [
    {
     "name": "stderr",
     "output_type": "stream",
     "text": [
      "C:\\Windows\\Temp\\ipykernel_23284\\3617653932.py:9: FutureWarning: A value is trying to be set on a copy of a DataFrame or Series through chained assignment using an inplace method.\n",
      "The behavior will change in pandas 3.0. This inplace method will never work because the intermediate object on which we are setting values always behaves as a copy.\n",
      "\n",
      "For example, when doing 'df[col].method(value, inplace=True)', try using 'df.method({col: value}, inplace=True)' or df[col] = df[col].method(value) instead, to perform the operation inplace on the original object.\n",
      "\n",
      "\n",
      "  df_s2['MODALIDAD GENERAL'].replace(reemplazos_modalidad_s2, inplace=True)\n",
      "C:\\Windows\\Temp\\ipykernel_23284\\3617653932.py:9: SettingWithCopyWarning: \n",
      "A value is trying to be set on a copy of a slice from a DataFrame\n",
      "\n",
      "See the caveats in the documentation: https://pandas.pydata.org/pandas-docs/stable/user_guide/indexing.html#returning-a-view-versus-a-copy\n",
      "  df_s2['MODALIDAD GENERAL'].replace(reemplazos_modalidad_s2, inplace=True)\n"
     ]
    }
   ],
   "source": [
    "reemplazos_modalidad_s2 = {\n",
    "    'Contratación Directa (con ofertas)': 'Contratación Directa', 'Contratación directa':'Contratación Directa',\n",
    "    'Selección abreviada subasta inversa': 'Selección Abreviada', 'Selección Abreviada de Menor Cuantía': 'Selección Abreviada', 'Seleccion Abreviada Menor Cuantia Sin Manifestacion Interes': 'Selección Abreviada', 'Contratación régimen especial (con ofertas)':'Contratación régimen especial',\n",
    "    'Licitación pública Obra Publica':'Licitación pública','Licitación Pública Acuerdo Marco de Precios':'Licitación pública',\n",
    "    'CCE-20-Concurso_Meritos_Sin_Lista_Corta_1Sobre':'Concurso de Méritos', 'Concurso de méritos abierto':'Concurso de Méritos',\n",
    "    'CCE-19-Concurso_Meritos_Con_Lista_Corta_1Sobre':'Concurso de Méritos'\n",
    "}\n",
    "\n",
    "df_s2['MODALIDAD GENERAL'].replace(reemplazos_modalidad_s2, inplace=True)"
   ]
  },
  {
   "cell_type": "markdown",
   "metadata": {},
   "source": [
    "Verificamos nuevamente la distribución con los reemplazos realizados"
   ]
  },
  {
   "cell_type": "code",
   "execution_count": 40,
   "metadata": {},
   "outputs": [
    {
     "data": {
      "text/html": [
       "<div>\n",
       "<style scoped>\n",
       "    .dataframe tbody tr th:only-of-type {\n",
       "        vertical-align: middle;\n",
       "    }\n",
       "\n",
       "    .dataframe tbody tr th {\n",
       "        vertical-align: top;\n",
       "    }\n",
       "\n",
       "    .dataframe thead th {\n",
       "        text-align: right;\n",
       "    }\n",
       "</style>\n",
       "<table border=\"1\" class=\"dataframe\">\n",
       "  <thead>\n",
       "    <tr style=\"text-align: right;\">\n",
       "      <th></th>\n",
       "      <th>REFERENCIA DEL CONTRATO</th>\n",
       "      <th>Porcentaje_de_Participacion</th>\n",
       "    </tr>\n",
       "    <tr>\n",
       "      <th>MODALIDAD GENERAL</th>\n",
       "      <th></th>\n",
       "      <th></th>\n",
       "    </tr>\n",
       "  </thead>\n",
       "  <tbody>\n",
       "    <tr>\n",
       "      <th>Contratación Directa</th>\n",
       "      <td>631174</td>\n",
       "      <td>79.894634</td>\n",
       "    </tr>\n",
       "    <tr>\n",
       "      <th>Contratación régimen especial</th>\n",
       "      <td>103906</td>\n",
       "      <td>13.152525</td>\n",
       "    </tr>\n",
       "    <tr>\n",
       "      <th>Mínima cuantía</th>\n",
       "      <td>32614</td>\n",
       "      <td>4.128313</td>\n",
       "    </tr>\n",
       "    <tr>\n",
       "      <th>Selección Abreviada</th>\n",
       "      <td>11183</td>\n",
       "      <td>1.415555</td>\n",
       "    </tr>\n",
       "    <tr>\n",
       "      <th>No Definido</th>\n",
       "      <td>6803</td>\n",
       "      <td>0.861131</td>\n",
       "    </tr>\n",
       "    <tr>\n",
       "      <th>Licitación pública</th>\n",
       "      <td>2586</td>\n",
       "      <td>0.327338</td>\n",
       "    </tr>\n",
       "    <tr>\n",
       "      <th>Concurso de Méritos</th>\n",
       "      <td>1669</td>\n",
       "      <td>0.211264</td>\n",
       "    </tr>\n",
       "    <tr>\n",
       "      <th>Enajenación de bienes con sobre cerrado</th>\n",
       "      <td>40</td>\n",
       "      <td>0.005063</td>\n",
       "    </tr>\n",
       "    <tr>\n",
       "      <th>Enajenación de bienes con subasta</th>\n",
       "      <td>33</td>\n",
       "      <td>0.004177</td>\n",
       "    </tr>\n",
       "  </tbody>\n",
       "</table>\n",
       "</div>"
      ],
      "text/plain": [
       "                                         REFERENCIA DEL CONTRATO  \\\n",
       "MODALIDAD GENERAL                                                  \n",
       "Contratación Directa                                      631174   \n",
       "Contratación régimen especial                             103906   \n",
       "Mínima cuantía                                             32614   \n",
       "Selección Abreviada                                        11183   \n",
       "No Definido                                                 6803   \n",
       "Licitación pública                                          2586   \n",
       "Concurso de Méritos                                         1669   \n",
       "Enajenación de bienes con sobre cerrado                       40   \n",
       "Enajenación de bienes con subasta                             33   \n",
       "\n",
       "                                         Porcentaje_de_Participacion  \n",
       "MODALIDAD GENERAL                                                     \n",
       "Contratación Directa                                       79.894634  \n",
       "Contratación régimen especial                              13.152525  \n",
       "Mínima cuantía                                              4.128313  \n",
       "Selección Abreviada                                         1.415555  \n",
       "No Definido                                                 0.861131  \n",
       "Licitación pública                                          0.327338  \n",
       "Concurso de Méritos                                         0.211264  \n",
       "Enajenación de bienes con sobre cerrado                     0.005063  \n",
       "Enajenación de bienes con subasta                           0.004177  "
      ]
     },
     "execution_count": 40,
     "metadata": {},
     "output_type": "execute_result"
    }
   ],
   "source": [
    "modalidad_s2_agrupados = pd.DataFrame(df_s2.groupby('MODALIDAD GENERAL')['REFERENCIA DEL CONTRATO'].count()).sort_values('REFERENCIA DEL CONTRATO',ascending=False).assign(Porcentaje_de_Participacion=lambda x: (x['REFERENCIA DEL CONTRATO'] / x['REFERENCIA DEL CONTRATO'].sum()) * 100)\n",
    "\n",
    "modalidad_s2_agrupados"
   ]
  },
  {
   "cell_type": "markdown",
   "metadata": {},
   "source": [
    "Ahora se verificarán los tipos de contrato que se encuentran en la base de datos SECOP II"
   ]
  },
  {
   "cell_type": "code",
   "execution_count": 41,
   "metadata": {},
   "outputs": [
    {
     "data": {
      "text/plain": [
       "array(['Decreto 092 de 2017', 'Prestación de servicios',\n",
       "       'Arrendamiento de muebles', 'Arrendamiento de inmuebles',\n",
       "       'Suministros', 'Otro', 'Obra', 'Comodato', 'Seguros',\n",
       "       'Interventoría', 'Compraventa', 'Servicios financieros',\n",
       "       'Consultoría', 'Operaciones de Crédito Público',\n",
       "       'Negocio fiduciario', 'Venta muebles',\n",
       "       'Asociación Público Privada', 'Acuerdo Marco de Precios',\n",
       "       'Concesión', 'Comisión', 'Venta inmuebles', 'No Especificado'],\n",
       "      dtype=object)"
      ]
     },
     "execution_count": 41,
     "metadata": {},
     "output_type": "execute_result"
    }
   ],
   "source": [
    "df_s2['TIPO DE CONTRATO'].unique()"
   ]
  },
  {
   "cell_type": "code",
   "execution_count": 42,
   "metadata": {},
   "outputs": [
    {
     "data": {
      "text/html": [
       "<div>\n",
       "<style scoped>\n",
       "    .dataframe tbody tr th:only-of-type {\n",
       "        vertical-align: middle;\n",
       "    }\n",
       "\n",
       "    .dataframe tbody tr th {\n",
       "        vertical-align: top;\n",
       "    }\n",
       "\n",
       "    .dataframe thead th {\n",
       "        text-align: right;\n",
       "    }\n",
       "</style>\n",
       "<table border=\"1\" class=\"dataframe\">\n",
       "  <thead>\n",
       "    <tr style=\"text-align: right;\">\n",
       "      <th></th>\n",
       "      <th>REFERENCIA DEL CONTRATO</th>\n",
       "      <th>Porcentaje_de_Participacion</th>\n",
       "    </tr>\n",
       "    <tr>\n",
       "      <th>TIPO DE CONTRATO</th>\n",
       "      <th></th>\n",
       "      <th></th>\n",
       "    </tr>\n",
       "  </thead>\n",
       "  <tbody>\n",
       "    <tr>\n",
       "      <th>Prestación de servicios</th>\n",
       "      <td>693854</td>\n",
       "      <td>87.828731</td>\n",
       "    </tr>\n",
       "    <tr>\n",
       "      <th>Otro</th>\n",
       "      <td>24394</td>\n",
       "      <td>3.087817</td>\n",
       "    </tr>\n",
       "    <tr>\n",
       "      <th>Decreto 092 de 2017</th>\n",
       "      <td>24189</td>\n",
       "      <td>3.061868</td>\n",
       "    </tr>\n",
       "    <tr>\n",
       "      <th>Suministros</th>\n",
       "      <td>14666</td>\n",
       "      <td>1.856437</td>\n",
       "    </tr>\n",
       "    <tr>\n",
       "      <th>Compraventa</th>\n",
       "      <td>11314</td>\n",
       "      <td>1.432137</td>\n",
       "    </tr>\n",
       "    <tr>\n",
       "      <th>Obra</th>\n",
       "      <td>6148</td>\n",
       "      <td>0.778220</td>\n",
       "    </tr>\n",
       "    <tr>\n",
       "      <th>Arrendamiento de inmuebles</th>\n",
       "      <td>5615</td>\n",
       "      <td>0.710752</td>\n",
       "    </tr>\n",
       "    <tr>\n",
       "      <th>No Especificado</th>\n",
       "      <td>3331</td>\n",
       "      <td>0.421641</td>\n",
       "    </tr>\n",
       "    <tr>\n",
       "      <th>Comodato</th>\n",
       "      <td>2204</td>\n",
       "      <td>0.278985</td>\n",
       "    </tr>\n",
       "    <tr>\n",
       "      <th>Interventoría</th>\n",
       "      <td>1538</td>\n",
       "      <td>0.194682</td>\n",
       "    </tr>\n",
       "    <tr>\n",
       "      <th>Seguros</th>\n",
       "      <td>1044</td>\n",
       "      <td>0.132151</td>\n",
       "    </tr>\n",
       "    <tr>\n",
       "      <th>Consultoría</th>\n",
       "      <td>954</td>\n",
       "      <td>0.120758</td>\n",
       "    </tr>\n",
       "    <tr>\n",
       "      <th>Arrendamiento de muebles</th>\n",
       "      <td>268</td>\n",
       "      <td>0.033924</td>\n",
       "    </tr>\n",
       "    <tr>\n",
       "      <th>Acuerdo Marco de Precios</th>\n",
       "      <td>123</td>\n",
       "      <td>0.015569</td>\n",
       "    </tr>\n",
       "    <tr>\n",
       "      <th>Servicios financieros</th>\n",
       "      <td>117</td>\n",
       "      <td>0.014810</td>\n",
       "    </tr>\n",
       "    <tr>\n",
       "      <th>Operaciones de Crédito Público</th>\n",
       "      <td>100</td>\n",
       "      <td>0.012658</td>\n",
       "    </tr>\n",
       "    <tr>\n",
       "      <th>Venta muebles</th>\n",
       "      <td>62</td>\n",
       "      <td>0.007848</td>\n",
       "    </tr>\n",
       "    <tr>\n",
       "      <th>Asociación Público Privada</th>\n",
       "      <td>26</td>\n",
       "      <td>0.003291</td>\n",
       "    </tr>\n",
       "    <tr>\n",
       "      <th>Comisión</th>\n",
       "      <td>21</td>\n",
       "      <td>0.002658</td>\n",
       "    </tr>\n",
       "    <tr>\n",
       "      <th>Concesión</th>\n",
       "      <td>15</td>\n",
       "      <td>0.001899</td>\n",
       "    </tr>\n",
       "    <tr>\n",
       "      <th>Negocio fiduciario</th>\n",
       "      <td>14</td>\n",
       "      <td>0.001772</td>\n",
       "    </tr>\n",
       "    <tr>\n",
       "      <th>Venta inmuebles</th>\n",
       "      <td>11</td>\n",
       "      <td>0.001392</td>\n",
       "    </tr>\n",
       "  </tbody>\n",
       "</table>\n",
       "</div>"
      ],
      "text/plain": [
       "                                REFERENCIA DEL CONTRATO  \\\n",
       "TIPO DE CONTRATO                                          \n",
       "Prestación de servicios                          693854   \n",
       "Otro                                              24394   \n",
       "Decreto 092 de 2017                               24189   \n",
       "Suministros                                       14666   \n",
       "Compraventa                                       11314   \n",
       "Obra                                               6148   \n",
       "Arrendamiento de inmuebles                         5615   \n",
       "No Especificado                                    3331   \n",
       "Comodato                                           2204   \n",
       "Interventoría                                      1538   \n",
       "Seguros                                            1044   \n",
       "Consultoría                                         954   \n",
       "Arrendamiento de muebles                            268   \n",
       "Acuerdo Marco de Precios                            123   \n",
       "Servicios financieros                               117   \n",
       "Operaciones de Crédito Público                      100   \n",
       "Venta muebles                                        62   \n",
       "Asociación Público Privada                           26   \n",
       "Comisión                                             21   \n",
       "Concesión                                            15   \n",
       "Negocio fiduciario                                   14   \n",
       "Venta inmuebles                                      11   \n",
       "\n",
       "                                Porcentaje_de_Participacion  \n",
       "TIPO DE CONTRATO                                             \n",
       "Prestación de servicios                           87.828731  \n",
       "Otro                                               3.087817  \n",
       "Decreto 092 de 2017                                3.061868  \n",
       "Suministros                                        1.856437  \n",
       "Compraventa                                        1.432137  \n",
       "Obra                                               0.778220  \n",
       "Arrendamiento de inmuebles                         0.710752  \n",
       "No Especificado                                    0.421641  \n",
       "Comodato                                           0.278985  \n",
       "Interventoría                                      0.194682  \n",
       "Seguros                                            0.132151  \n",
       "Consultoría                                        0.120758  \n",
       "Arrendamiento de muebles                           0.033924  \n",
       "Acuerdo Marco de Precios                           0.015569  \n",
       "Servicios financieros                              0.014810  \n",
       "Operaciones de Crédito Público                     0.012658  \n",
       "Venta muebles                                      0.007848  \n",
       "Asociación Público Privada                         0.003291  \n",
       "Comisión                                           0.002658  \n",
       "Concesión                                          0.001899  \n",
       "Negocio fiduciario                                 0.001772  \n",
       "Venta inmuebles                                    0.001392  "
      ]
     },
     "execution_count": 42,
     "metadata": {},
     "output_type": "execute_result"
    }
   ],
   "source": [
    "tipo_contrato_s2_agrupados = pd.DataFrame(df_s2.groupby('TIPO DE CONTRATO')['REFERENCIA DEL CONTRATO'].count()).sort_values('REFERENCIA DEL CONTRATO',ascending=False).assign(Porcentaje_de_Participacion=lambda x: (x['REFERENCIA DEL CONTRATO'] / x['REFERENCIA DEL CONTRATO'].sum()) * 100)\n",
    "\n",
    "tipo_contrato_s2_agrupados"
   ]
  },
  {
   "cell_type": "markdown",
   "metadata": {},
   "source": [
    "Verificamos ahora las fechas de firma de los contratos, que queden unificados con las demás bases de datos"
   ]
  },
  {
   "cell_type": "code",
   "execution_count": 43,
   "metadata": {},
   "outputs": [
    {
     "name": "stdout",
     "output_type": "stream",
     "text": [
      "Formato de fecha de firma del contrato inicial: object\n",
      "Formato de fecha de firma del contrato después del cambio de formato: datetime64[ns]\n"
     ]
    },
    {
     "name": "stderr",
     "output_type": "stream",
     "text": [
      "C:\\Windows\\Temp\\ipykernel_23284\\1042673216.py:2: SettingWithCopyWarning: \n",
      "A value is trying to be set on a copy of a slice from a DataFrame.\n",
      "Try using .loc[row_indexer,col_indexer] = value instead\n",
      "\n",
      "See the caveats in the documentation: https://pandas.pydata.org/pandas-docs/stable/user_guide/indexing.html#returning-a-view-versus-a-copy\n",
      "  df_s2['FECHA DE FIRMA'] = pd.to_datetime(df_s2['FECHA DE FIRMA'])\n"
     ]
    }
   ],
   "source": [
    "print(f'Formato de fecha de firma del contrato inicial: {df_s2['FECHA DE FIRMA'].dtype}')\n",
    "df_s2['FECHA DE FIRMA'] = pd.to_datetime(df_s2['FECHA DE FIRMA'])\n",
    "print(f'Formato de fecha de firma del contrato después del cambio de formato: {df_s2['FECHA DE FIRMA'].dtype}')"
   ]
  },
  {
   "cell_type": "code",
   "execution_count": 44,
   "metadata": {},
   "outputs": [
    {
     "name": "stdout",
     "output_type": "stream",
     "text": [
      "Tamaño del set antes de segmentar a 2023: (790008, 74)\n"
     ]
    },
    {
     "name": "stdout",
     "output_type": "stream",
     "text": [
      "Tamaño del set 2023: (618187, 74)\n"
     ]
    }
   ],
   "source": [
    "print(f'Tamaño del set antes de segmentar a 2023: {df_s2.shape}')\n",
    "df_s2 = df_s2[df_s2['FECHA DE FIRMA'].dt.year == 2023]\n",
    "print(f'Tamaño del set 2023: {df_s2.shape}')"
   ]
  },
  {
   "cell_type": "code",
   "execution_count": 45,
   "metadata": {},
   "outputs": [
    {
     "data": {
      "image/png": "[encoded data removed]",
      "text/plain": [
       "<Figure size 640x480 with 1 Axes>"
      ]
     },
     "metadata": {},
     "output_type": "display_data"
    }
   ],
   "source": [
    "plot= sns.set_style(\"whitegrid\")\n",
    "ax=sns.boxplot(x=df_s2['VALOR DEL CONTRATO'])\n",
    "plot"
   ]
  },
  {
   "cell_type": "markdown",
   "metadata": {},
   "source": [
    "Identificamos una concentración mayoritariamente entre 0 y 100 mil millones de pesos para el valor de los contratos, debemos verificar los valores que no estén dentro de este rango para cerciorarnos que las cifras no presentan inconsistencias"
   ]
  },
  {
   "cell_type": "code",
   "execution_count": 46,
   "metadata": {},
   "outputs": [
    {
     "data": {
      "text/plain": [
       "(63, 74)"
      ]
     },
     "execution_count": 46,
     "metadata": {},
     "output_type": "execute_result"
    }
   ],
   "source": [
    "df_s2_out=df_s2[df_s2['VALOR DEL CONTRATO']>=100000000000]\n",
    "\n",
    "df_s2_out.shape"
   ]
  },
  {
   "cell_type": "markdown",
   "metadata": {},
   "source": [
    "Vemos que existen 64 contratos que podrían considerarse como con valores de contrato atípicos, por lo cual se deben verificar directamente de la fuente de datos"
   ]
  },
  {
   "cell_type": "code",
   "execution_count": 47,
   "metadata": {},
   "outputs": [
    {
     "data": {
      "text/plain": [
       "0         https://community.secop.gov.co/Public/Tenderin...\n",
       "1         https://community.secop.gov.co/Public/Tenderin...\n",
       "2         https://community.secop.gov.co/Public/Tenderin...\n",
       "3         https://community.secop.gov.co/Public/Tenderin...\n",
       "4         https://community.secop.gov.co/Public/Tenderin...\n",
       "                                ...                        \n",
       "933455    https://community.secop.gov.co/Public/Tenderin...\n",
       "933457    https://community.secop.gov.co/Public/Tenderin...\n",
       "933458    https://community.secop.gov.co/Public/Tenderin...\n",
       "933459    https://community.secop.gov.co/Public/Tenderin...\n",
       "933460    https://community.secop.gov.co/Public/Tenderin...\n",
       "Name: URLPROCESO, Length: 618187, dtype: object"
      ]
     },
     "execution_count": 47,
     "metadata": {},
     "output_type": "execute_result"
    }
   ],
   "source": [
    "df_s2['URLPROCESO']"
   ]
  },
  {
   "cell_type": "markdown",
   "metadata": {},
   "source": [
    "Una vez verificados se continúa con el análisis."
   ]
  },
  {
   "cell_type": "markdown",
   "metadata": {},
   "source": [
    "Aplicamos el mismo procedimiento a los objetos contractuales que generamos para corregir errores en los objetos contractuales"
   ]
  },
  {
   "cell_type": "code",
   "execution_count": 48,
   "metadata": {},
   "outputs": [],
   "source": [
    "df_s2['DESCRIPCION DEL PROCESO']=df_s2['DESCRIPCION DEL PROCESO'].astype(str)"
   ]
  },
  {
   "cell_type": "code",
   "execution_count": 49,
   "metadata": {},
   "outputs": [],
   "source": [
    "def limpiar_texto(texto):\n",
    "    texto_limpio = re.sub(r'[^a-zA-Z0-9\\s]', '', texto)\n",
    "    return texto_limpio\n",
    "\n",
    "df_s2['OBJETO CONTRACTUAL'] = df_s2['DESCRIPCION DEL PROCESO'].apply(limpiar_texto)"
   ]
  },
  {
   "cell_type": "markdown",
   "metadata": {},
   "source": [
    "Ahora seleccionaremos las columnas que se van a integrar con las demás bases de datos"
   ]
  },
  {
   "cell_type": "code",
   "execution_count": 50,
   "metadata": {},
   "outputs": [],
   "source": [
    "df_s2_integrar=df_s2[['NOMBRE ENTIDAD', 'ESTADO CONTRATO','PROCESO DE COMPRA','REFERENCIA DEL CONTRATO', 'OBJETO CONTRACTUAL', 'FECHA DE FIRMA', 'DOCUMENTO PROVEEDOR', 'PROVEEDOR ADJUDICADO', 'VALOR DEL CONTRATO','MODALIDAD GENERAL','TIPO DE CONTRATO','URLPROCESO']]\n"
   ]
  },
  {
   "cell_type": "code",
   "execution_count": null,
   "metadata": {},
   "outputs": [],
   "source": []
  },
  {
   "cell_type": "markdown",
   "metadata": {},
   "source": [
    "- Portal de datos abiertos, conjunto de datos Tienda Virtual del Estado Colombiano – TVEC\n",
    "\n",
    "Se abre un archivo csv llamado Data_analytics_TVEC.csv con la información de las órdenes de compra colocadas desde el 1° de enero de 2023 a la fecha. "
   ]
  },
  {
   "cell_type": "code",
   "execution_count": 51,
   "metadata": {},
   "outputs": [
    {
     "name": "stderr",
     "output_type": "stream",
     "text": [
      "C:\\Windows\\Temp\\ipykernel_23284\\1916459711.py:1: DtypeWarning: Columns (1) have mixed types. Specify dtype option on import or set low_memory=False.\n",
      "  tvec_inicial=pd.read_csv('C:\\\\Users\\\\danie\\\\OneDrive\\\\Escritorio\\\\Proyecto análisis de datos\\\\Data_analytics_TVEC.csv')\n"
     ]
    },
    {
     "name": "stdout",
     "output_type": "stream",
     "text": [
      "['AÑO', 'IDENTIFICADOR DE LA ORDEN', 'AGREGACION', 'RAMA DE LA ENTIDAD', 'SECTOR DE LA ENTIDAD', 'ENTIDAD', 'ORDEN DE LA ENTIDAD', 'NIT ENTIDAD', 'SOLICITANTE', 'FECHA', 'PROVEEDOR', 'ESTADO', 'SOLICITUD', 'ITEMS', 'TOTAL', 'CIUDAD', 'ENTIDAD OBIGADA', 'ESPOSTCONFLICTO', 'NIT PROVEEDOR', 'ACTIVIDAD ECONOMICA PROVEEDOR', 'ID ENTIDAD']\n"
     ]
    },
    {
     "data": {
      "text/plain": [
       "(1008831, 21)"
      ]
     },
     "execution_count": 51,
     "metadata": {},
     "output_type": "execute_result"
    }
   ],
   "source": [
    "tvec_inicial=pd.read_csv('C:\\\\Users\\\\danie\\\\OneDrive\\\\Escritorio\\\\Proyecto análisis de datos\\\\Data_analytics_TVEC.csv')\n",
    "\n",
    "cols=list(tvec_inicial.columns)\n",
    "cols=[x.upper().strip() for x in cols]\n",
    "tvec_inicial.columns=cols\n",
    "\n",
    "print(cols)\n",
    "\n",
    "tvec_inicial.shape"
   ]
  },
  {
   "cell_type": "code",
   "execution_count": 52,
   "metadata": {},
   "outputs": [],
   "source": [
    "tvec=tvec_inicial"
   ]
  },
  {
   "cell_type": "markdown",
   "metadata": {},
   "source": [
    "Para esta base de datos, a diferencia de las otras, los contratos se identifican como número de orden de compra, por lo cual siempre serán valores distintos para cada contrato, independientemente de la entidad estatal. Por lo cual se hará la verificación de los duplicados de manera directa con la columna \"IDENTIFICADOR DE LA ORDEN\". \n",
    "\n",
    "Hay que tener presente que la totalidad de las filas que registran en esta base de datos se ve alterada ya que cada item que se registra en una orden de compra se crea una nueva fila, por lo cual vamos a ver que reduce considerablemente el número de órdenes de compra de la base de datos con la eliminación de duplicados."
   ]
  },
  {
   "cell_type": "code",
   "execution_count": 53,
   "metadata": {},
   "outputs": [
    {
     "name": "stdout",
     "output_type": "stream",
     "text": [
      "Tamaño del set antes de eliminar las OC Repetidas: (1008831, 21) \n",
      "Tamaño del set después de eliminar las OC Repetidas: (21482, 21)\n"
     ]
    }
   ],
   "source": [
    "print(f\"Tamaño del set antes de eliminar las OC Repetidas: {tvec.shape} \")\n",
    "tvec.drop_duplicates(subset='IDENTIFICADOR DE LA ORDEN', keep=\"first\", inplace=True)\n",
    "print(f\"Tamaño del set después de eliminar las OC Repetidas: {tvec.shape}\")"
   ]
  },
  {
   "cell_type": "markdown",
   "metadata": {},
   "source": [
    "Ahora se verifican las fechas de firma de la orden de compra, unificado con las demás bases de datos"
   ]
  },
  {
   "cell_type": "code",
   "execution_count": 54,
   "metadata": {},
   "outputs": [
    {
     "name": "stdout",
     "output_type": "stream",
     "text": [
      "Formato de fecha de firma del contrato inicial: object\n",
      "Formato de fecha de firma del contrato después del cambio de formato: datetime64[ns]\n"
     ]
    }
   ],
   "source": [
    "print(f'Formato de fecha de firma del contrato inicial: {tvec['FECHA'].dtype}')\n",
    "tvec['FECHA'] = pd.to_datetime(tvec['FECHA'])\n",
    "print(f'Formato de fecha de firma del contrato después del cambio de formato: {tvec['FECHA'].dtype}')\n"
   ]
  },
  {
   "cell_type": "code",
   "execution_count": 55,
   "metadata": {},
   "outputs": [
    {
     "name": "stdout",
     "output_type": "stream",
     "text": [
      "Tamaño del set antes de segmentar a 2023: (21482, 21)\n",
      "Tamaño del set 2023: (20074, 21)\n"
     ]
    }
   ],
   "source": [
    "print(f'Tamaño del set antes de segmentar a 2023: {tvec.shape}')\n",
    "tvec = tvec[tvec['FECHA'].dt.year == 2023]\n",
    "print(f'Tamaño del set 2023: {tvec.shape}')"
   ]
  },
  {
   "cell_type": "markdown",
   "metadata": {},
   "source": [
    "Vamos a verificar la distribución de los valores de los contratos"
   ]
  },
  {
   "cell_type": "code",
   "execution_count": 56,
   "metadata": {},
   "outputs": [
    {
     "name": "stderr",
     "output_type": "stream",
     "text": [
      "C:\\Windows\\Temp\\ipykernel_23284\\2792321028.py:1: SettingWithCopyWarning: \n",
      "A value is trying to be set on a copy of a slice from a DataFrame.\n",
      "Try using .loc[row_indexer,col_indexer] = value instead\n",
      "\n",
      "See the caveats in the documentation: https://pandas.pydata.org/pandas-docs/stable/user_guide/indexing.html#returning-a-view-versus-a-copy\n",
      "  tvec['TOTAL'] = pd.to_numeric(tvec['TOTAL'], errors='coerce')\n"
     ]
    }
   ],
   "source": [
    "tvec['TOTAL'] = pd.to_numeric(tvec['TOTAL'], errors='coerce')"
   ]
  },
  {
   "cell_type": "code",
   "execution_count": 57,
   "metadata": {},
   "outputs": [
    {
     "data": {
      "image/png": "[encoded data removed]",
      "text/plain": [
       "<Figure size 640x480 with 1 Axes>"
      ]
     },
     "metadata": {},
     "output_type": "display_data"
    }
   ],
   "source": [
    "plot= sns.set_style(\"whitegrid\")\n",
    "ax=sns.boxplot(x=tvec['TOTAL'])\n",
    "plot"
   ]
  },
  {
   "cell_type": "markdown",
   "metadata": {},
   "source": [
    "Se identifica entonces, al igual que en las demás bases de datos que hay valores atípicos desde los 100 mil millones de pesos, los cuales se deben revisar directamente en la fuente de datos"
   ]
  },
  {
   "cell_type": "markdown",
   "metadata": {},
   "source": [
    "Este conjunto de datos no tiene enlace de la orden de compra, por lo cual se debe crearlo, se identifica que el enlace principal para la consulta de las órdenes de compra es siempre este\n",
    "\n",
    "https://www.colombiacompra.gov.co/tienda-virtual-del-estado-colombiano/ordenes-compra\n",
    "\n",
    "Por lo cual se concatenará el enlace con el número de la orden de compra, para esto crearemos primero la columna 'ENLACE'"
   ]
  },
  {
   "cell_type": "code",
   "execution_count": 58,
   "metadata": {},
   "outputs": [
    {
     "name": "stderr",
     "output_type": "stream",
     "text": [
      "C:\\Windows\\Temp\\ipykernel_23284\\4206332288.py:1: SettingWithCopyWarning: \n",
      "A value is trying to be set on a copy of a slice from a DataFrame.\n",
      "Try using .loc[row_indexer,col_indexer] = value instead\n",
      "\n",
      "See the caveats in the documentation: https://pandas.pydata.org/pandas-docs/stable/user_guide/indexing.html#returning-a-view-versus-a-copy\n",
      "  tvec['ENLACE']=\"https://www.colombiacompra.gov.co/tienda-virtual-del-estado-colombiano/ordenes-compra/\"\n"
     ]
    }
   ],
   "source": [
    "tvec['ENLACE']=\"https://www.colombiacompra.gov.co/tienda-virtual-del-estado-colombiano/ordenes-compra/\""
   ]
  },
  {
   "cell_type": "markdown",
   "metadata": {},
   "source": [
    "Ahora concatenamos esta nueva columna con el identificador de la orden y creamos el 'ENLACE DE OC'"
   ]
  },
  {
   "cell_type": "code",
   "execution_count": 59,
   "metadata": {},
   "outputs": [
    {
     "name": "stderr",
     "output_type": "stream",
     "text": [
      "C:\\Windows\\Temp\\ipykernel_23284\\2550860746.py:1: SettingWithCopyWarning: \n",
      "A value is trying to be set on a copy of a slice from a DataFrame.\n",
      "Try using .loc[row_indexer,col_indexer] = value instead\n",
      "\n",
      "See the caveats in the documentation: https://pandas.pydata.org/pandas-docs/stable/user_guide/indexing.html#returning-a-view-versus-a-copy\n",
      "  tvec['IDENTIFICADOR DE LA ORDEN']=tvec['IDENTIFICADOR DE LA ORDEN'].astype(str)\n",
      "C:\\Windows\\Temp\\ipykernel_23284\\2550860746.py:3: SettingWithCopyWarning: \n",
      "A value is trying to be set on a copy of a slice from a DataFrame.\n",
      "Try using .loc[row_indexer,col_indexer] = value instead\n",
      "\n",
      "See the caveats in the documentation: https://pandas.pydata.org/pandas-docs/stable/user_guide/indexing.html#returning-a-view-versus-a-copy\n",
      "  tvec['ENLACE DE OC'] = tvec['ENLACE'] + tvec['IDENTIFICADOR DE LA ORDEN']\n"
     ]
    }
   ],
   "source": [
    "tvec['IDENTIFICADOR DE LA ORDEN']=tvec['IDENTIFICADOR DE LA ORDEN'].astype(str)\n",
    "\n",
    "tvec['ENLACE DE OC'] = tvec['ENLACE'] + tvec['IDENTIFICADOR DE LA ORDEN']"
   ]
  },
  {
   "cell_type": "code",
   "execution_count": 60,
   "metadata": {},
   "outputs": [
    {
     "data": {
      "text/plain": [
       "0         https://www.colombiacompra.gov.co/tienda-virtu...\n",
       "1         https://www.colombiacompra.gov.co/tienda-virtu...\n",
       "155       https://www.colombiacompra.gov.co/tienda-virtu...\n",
       "156       https://www.colombiacompra.gov.co/tienda-virtu...\n",
       "157       https://www.colombiacompra.gov.co/tienda-virtu...\n",
       "                                ...                        \n",
       "958895    https://www.colombiacompra.gov.co/tienda-virtu...\n",
       "958896    https://www.colombiacompra.gov.co/tienda-virtu...\n",
       "959050    https://www.colombiacompra.gov.co/tienda-virtu...\n",
       "959204    https://www.colombiacompra.gov.co/tienda-virtu...\n",
       "959205    https://www.colombiacompra.gov.co/tienda-virtu...\n",
       "Name: ENLACE DE OC, Length: 20074, dtype: object"
      ]
     },
     "execution_count": 60,
     "metadata": {},
     "output_type": "execute_result"
    }
   ],
   "source": [
    "tvec['ENLACE DE OC']"
   ]
  },
  {
   "cell_type": "markdown",
   "metadata": {},
   "source": [
    "Finalmente identificamos las columnas que se usarán para el análisis de los datos\n",
    "\n",
    "En esta base de datos no existen las columnas modalidad de contratación ni tipo de contrato, por lo cual vamos a crear unas que digan 'AMP - Orden de compra'"
   ]
  },
  {
   "cell_type": "code",
   "execution_count": 61,
   "metadata": {},
   "outputs": [
    {
     "name": "stderr",
     "output_type": "stream",
     "text": [
      "C:\\Windows\\Temp\\ipykernel_23284\\2103900494.py:1: SettingWithCopyWarning: \n",
      "A value is trying to be set on a copy of a slice from a DataFrame.\n",
      "Try using .loc[row_indexer,col_indexer] = value instead\n",
      "\n",
      "See the caveats in the documentation: https://pandas.pydata.org/pandas-docs/stable/user_guide/indexing.html#returning-a-view-versus-a-copy\n",
      "  tvec['MODALIDAD']='AMP - Orden de compra'\n",
      "C:\\Windows\\Temp\\ipykernel_23284\\2103900494.py:2: SettingWithCopyWarning: \n",
      "A value is trying to be set on a copy of a slice from a DataFrame.\n",
      "Try using .loc[row_indexer,col_indexer] = value instead\n",
      "\n",
      "See the caveats in the documentation: https://pandas.pydata.org/pandas-docs/stable/user_guide/indexing.html#returning-a-view-versus-a-copy\n",
      "  tvec['TIPO DE CONTRATO']='AMP - Orden de compra'\n"
     ]
    }
   ],
   "source": [
    "tvec['MODALIDAD']='AMP - Orden de compra'\n",
    "tvec['TIPO DE CONTRATO']='AMP - Orden de compra'"
   ]
  },
  {
   "cell_type": "markdown",
   "metadata": {},
   "source": [
    "Aplicamos el procedimiento de los objetos contractuales, en este caso será la columna \"ITEMS\""
   ]
  },
  {
   "cell_type": "code",
   "execution_count": 62,
   "metadata": {},
   "outputs": [
    {
     "name": "stderr",
     "output_type": "stream",
     "text": [
      "C:\\Windows\\Temp\\ipykernel_23284\\1506147712.py:1: SettingWithCopyWarning: \n",
      "A value is trying to be set on a copy of a slice from a DataFrame.\n",
      "Try using .loc[row_indexer,col_indexer] = value instead\n",
      "\n",
      "See the caveats in the documentation: https://pandas.pydata.org/pandas-docs/stable/user_guide/indexing.html#returning-a-view-versus-a-copy\n",
      "  tvec['ITEMS']=tvec['ITEMS'].astype(str)\n"
     ]
    }
   ],
   "source": [
    "tvec['ITEMS']=tvec['ITEMS'].astype(str)"
   ]
  },
  {
   "cell_type": "code",
   "execution_count": 63,
   "metadata": {},
   "outputs": [
    {
     "name": "stderr",
     "output_type": "stream",
     "text": [
      "C:\\Windows\\Temp\\ipykernel_23284\\3324142807.py:5: SettingWithCopyWarning: \n",
      "A value is trying to be set on a copy of a slice from a DataFrame.\n",
      "Try using .loc[row_indexer,col_indexer] = value instead\n",
      "\n",
      "See the caveats in the documentation: https://pandas.pydata.org/pandas-docs/stable/user_guide/indexing.html#returning-a-view-versus-a-copy\n",
      "  tvec['OBJETO CONTRACTUAL'] = tvec['ITEMS'].apply(limpiar_texto)\n"
     ]
    }
   ],
   "source": [
    "def limpiar_texto(texto):\n",
    "    texto_limpio = re.sub(r'[^a-zA-Z0-9\\s]', '', texto)\n",
    "    return texto_limpio\n",
    "\n",
    "tvec['OBJETO CONTRACTUAL'] = tvec['ITEMS'].apply(limpiar_texto)"
   ]
  },
  {
   "cell_type": "markdown",
   "metadata": {},
   "source": [
    "Definimos las columnas a usar para la base de datos de TVEC"
   ]
  },
  {
   "cell_type": "code",
   "execution_count": 64,
   "metadata": {},
   "outputs": [],
   "source": [
    "tvec_integrar=tvec[['ENTIDAD', 'ESTADO', 'AGREGACION','IDENTIFICADOR DE LA ORDEN', 'OBJETO CONTRACTUAL','FECHA', 'NIT PROVEEDOR', 'PROVEEDOR', 'TOTAL', 'MODALIDAD','TIPO DE CONTRATO','ENLACE DE OC']]"
   ]
  },
  {
   "cell_type": "markdown",
   "metadata": {},
   "source": [
    "Una vez definidas estas columnas ahora vamos a integrar las tres bases de datos en una única llamada INTEGRADO"
   ]
  },
  {
   "cell_type": "code",
   "execution_count": 65,
   "metadata": {},
   "outputs": [],
   "source": [
    "columnas=df_s2_integrar.columns\n",
    "df_s1_integrar.columns=columnas\n",
    "tvec_integrar.columns=columnas"
   ]
  },
  {
   "cell_type": "code",
   "execution_count": 66,
   "metadata": {},
   "outputs": [],
   "source": [
    "INTEGRADO = pd.concat([df_s1_integrar, df_s2_integrar,tvec_integrar])"
   ]
  },
  {
   "cell_type": "code",
   "execution_count": 67,
   "metadata": {},
   "outputs": [
    {
     "data": {
      "text/plain": [
       "(935696, 12)"
      ]
     },
     "execution_count": 67,
     "metadata": {},
     "output_type": "execute_result"
    }
   ],
   "source": [
    "INTEGRADO.shape"
   ]
  },
  {
   "cell_type": "markdown",
   "metadata": {},
   "source": [
    "Vamos a incluir una adicional que me identifique la fuente de datos, para esto tomaremos las cadenas de texto de los enlaces de los contratos"
   ]
  },
  {
   "cell_type": "code",
   "execution_count": 68,
   "metadata": {},
   "outputs": [
    {
     "data": {
      "text/html": [
       "<div>\n",
       "<style scoped>\n",
       "    .dataframe tbody tr th:only-of-type {\n",
       "        vertical-align: middle;\n",
       "    }\n",
       "\n",
       "    .dataframe tbody tr th {\n",
       "        vertical-align: top;\n",
       "    }\n",
       "\n",
       "    .dataframe thead th {\n",
       "        text-align: right;\n",
       "    }\n",
       "</style>\n",
       "<table border=\"1\" class=\"dataframe\">\n",
       "  <thead>\n",
       "    <tr style=\"text-align: right;\">\n",
       "      <th></th>\n",
       "      <th>NOMBRE ENTIDAD</th>\n",
       "      <th>ESTADO CONTRATO</th>\n",
       "      <th>PROCESO DE COMPRA</th>\n",
       "      <th>REFERENCIA DEL CONTRATO</th>\n",
       "      <th>OBJETO CONTRACTUAL</th>\n",
       "      <th>FECHA DE FIRMA</th>\n",
       "      <th>DOCUMENTO PROVEEDOR</th>\n",
       "      <th>PROVEEDOR ADJUDICADO</th>\n",
       "      <th>VALOR DEL CONTRATO</th>\n",
       "      <th>MODALIDAD GENERAL</th>\n",
       "      <th>TIPO DE CONTRATO</th>\n",
       "      <th>URLPROCESO</th>\n",
       "      <th>PLATAFORMA</th>\n",
       "    </tr>\n",
       "  </thead>\n",
       "  <tbody>\n",
       "    <tr>\n",
       "      <th>0</th>\n",
       "      <td>GUAVIARE  ESE HOSPITAL SAN JOSE DEL GUAVIARE</td>\n",
       "      <td>Liquidado</td>\n",
       "      <td>162-2023</td>\n",
       "      <td>1622023</td>\n",
       "      <td>PRESTACION DE SERVICIOS COMO AUXILIAR DE ENFER...</td>\n",
       "      <td>2023-01-01</td>\n",
       "      <td>1120582153</td>\n",
       "      <td>FRANKLIN MARROQUIN TRIANA</td>\n",
       "      <td>10926000.0</td>\n",
       "      <td>Contratos y convenios con más de dos partes</td>\n",
       "      <td>Prestación de Servicios</td>\n",
       "      <td>https://www.contratos.gov.co/consultas/detalle...</td>\n",
       "      <td>SECOP I</td>\n",
       "    </tr>\n",
       "    <tr>\n",
       "      <th>1</th>\n",
       "      <td>RISARALDA  ESE HOSPITAL CRISTO REY  BALBOA</td>\n",
       "      <td>Celebrado</td>\n",
       "      <td>CONTRATO 008</td>\n",
       "      <td>CONTRATO 008</td>\n",
       "      <td>PRESTACION DE SERVICIOS DE APOYO A LA GESTION ...</td>\n",
       "      <td>2023-01-01</td>\n",
       "      <td>4380862</td>\n",
       "      <td>ALEXANDER LOPEZ LONDOÑO</td>\n",
       "      <td>8260000.0</td>\n",
       "      <td>Contratos y convenios con más de dos partes</td>\n",
       "      <td>Prestación de Servicios</td>\n",
       "      <td>https://www.contratos.gov.co/consultas/detalle...</td>\n",
       "      <td>SECOP I</td>\n",
       "    </tr>\n",
       "    <tr>\n",
       "      <th>2</th>\n",
       "      <td>VALLE DEL CAUCA  ESE HOSPITAL FRANCINETH SANCH...</td>\n",
       "      <td>Liquidado</td>\n",
       "      <td>CP-032-2023</td>\n",
       "      <td>CP0322023</td>\n",
       "      <td>PRESTACION DE SERVICIOS MOTORISTA</td>\n",
       "      <td>2023-01-01</td>\n",
       "      <td>94362541</td>\n",
       "      <td>EDUARDO PUMALPA</td>\n",
       "      <td>7000000.0</td>\n",
       "      <td>Contratos y convenios con más de dos partes</td>\n",
       "      <td>Prestación de Servicios</td>\n",
       "      <td>https://www.contratos.gov.co/consultas/detalle...</td>\n",
       "      <td>SECOP I</td>\n",
       "    </tr>\n",
       "    <tr>\n",
       "      <th>3</th>\n",
       "      <td>GUAVIARE  ESE HOSPITAL SAN JOSE DEL GUAVIARE</td>\n",
       "      <td>Liquidado</td>\n",
       "      <td>263-2023</td>\n",
       "      <td>2632023</td>\n",
       "      <td>PRESTACION DE SERVICIOS COMO AUXILIAR DE LABOR...</td>\n",
       "      <td>2023-01-01</td>\n",
       "      <td>1010049957</td>\n",
       "      <td>PAULA ANDREA SUPELANO JIMENEZ</td>\n",
       "      <td>10926000.0</td>\n",
       "      <td>Contratos y convenios con más de dos partes</td>\n",
       "      <td>Prestación de Servicios</td>\n",
       "      <td>https://www.contratos.gov.co/consultas/detalle...</td>\n",
       "      <td>SECOP I</td>\n",
       "    </tr>\n",
       "    <tr>\n",
       "      <th>4</th>\n",
       "      <td>ANTIOQUIA  ESE HOSPITAL ATRATO MEDIO ANTIOQUEN...</td>\n",
       "      <td>Celebrado</td>\n",
       "      <td>006-2023</td>\n",
       "      <td>0062023</td>\n",
       "      <td>LA PRESTACION DE SERVICIOS COMO AUXILIAR DE SE...</td>\n",
       "      <td>2023-01-01</td>\n",
       "      <td>32195644</td>\n",
       "      <td>MARTINA MENA GAMBOA</td>\n",
       "      <td>14431584.0</td>\n",
       "      <td>Contratación Directa</td>\n",
       "      <td>Prestación de Servicios</td>\n",
       "      <td>https://www.contratos.gov.co/consultas/detalle...</td>\n",
       "      <td>SECOP I</td>\n",
       "    </tr>\n",
       "    <tr>\n",
       "      <th>5</th>\n",
       "      <td>HUILA  ESE HOSPITAL SAN FRANCISCO JAVIER  ACEVEDO</td>\n",
       "      <td>Celebrado</td>\n",
       "      <td>CS-046</td>\n",
       "      <td>CS046</td>\n",
       "      <td>PRESTACION DE SERVICIOS COMO APOYO A LA GESTIO...</td>\n",
       "      <td>2023-01-01</td>\n",
       "      <td>1007695643</td>\n",
       "      <td>ADALID CHAVARRO CALDERON</td>\n",
       "      <td>4410000.0</td>\n",
       "      <td>Régimen Especial</td>\n",
       "      <td>Prestación de Servicios</td>\n",
       "      <td>https://www.contratos.gov.co/consultas/detalle...</td>\n",
       "      <td>SECOP I</td>\n",
       "    </tr>\n",
       "    <tr>\n",
       "      <th>6</th>\n",
       "      <td>CUNDINAMARCA  ALCALDIA MUNICIPIO DE NILO</td>\n",
       "      <td>Liquidado</td>\n",
       "      <td>003-2023</td>\n",
       "      <td>0032023 PRES</td>\n",
       "      <td>PRESTACION DE SERVICIOS PROFESIONALES PARA DES...</td>\n",
       "      <td>2023-01-01</td>\n",
       "      <td>66978106</td>\n",
       "      <td>SANDRA MILENA HERNANDEZ SIERRA</td>\n",
       "      <td>63600000.0</td>\n",
       "      <td>Contratación Directa</td>\n",
       "      <td>Prestación de Servicios</td>\n",
       "      <td>https://www.contratos.gov.co/consultas/detalle...</td>\n",
       "      <td>SECOP I</td>\n",
       "    </tr>\n",
       "    <tr>\n",
       "      <th>7</th>\n",
       "      <td>TOLIMA  PIJAOS SALUD EPSI  IBAGUE</td>\n",
       "      <td>Celebrado</td>\n",
       "      <td>73-483-23-037</td>\n",
       "      <td>7348323037</td>\n",
       "      <td>EL PRESENTE CONTRATO TIENE POR OBJETO CONTRATA...</td>\n",
       "      <td>2023-01-01</td>\n",
       "      <td>809009550</td>\n",
       "      <td>THE WALA IPS INDIGENA PUBLICA</td>\n",
       "      <td>854970068.0</td>\n",
       "      <td>Selección Abreviada</td>\n",
       "      <td>Prestación de Servicios</td>\n",
       "      <td>https://www.contratos.gov.co/consultas/detalle...</td>\n",
       "      <td>SECOP I</td>\n",
       "    </tr>\n",
       "    <tr>\n",
       "      <th>8</th>\n",
       "      <td>RISARALDA  ESE HOSPITAL CRISTO REY  BALBOA</td>\n",
       "      <td>Celebrado</td>\n",
       "      <td>CONTRATO 004</td>\n",
       "      <td>CONTRATO 004</td>\n",
       "      <td>PRESTAR EL SERVICIO DE ENFERMERIA EN LAS AREAS...</td>\n",
       "      <td>2023-01-01</td>\n",
       "      <td>1004682760</td>\n",
       "      <td>BRENDA YULISA CARDENAS SUAREZ</td>\n",
       "      <td>13440000.0</td>\n",
       "      <td>Contratos y convenios con más de dos partes</td>\n",
       "      <td>Prestación de Servicios</td>\n",
       "      <td>https://www.contratos.gov.co/consultas/detalle...</td>\n",
       "      <td>SECOP I</td>\n",
       "    </tr>\n",
       "    <tr>\n",
       "      <th>9</th>\n",
       "      <td>GUAVIARE  ESE HOSPITAL SAN JOSE DEL GUAVIARE</td>\n",
       "      <td>Celebrado</td>\n",
       "      <td>058-2023</td>\n",
       "      <td>0582023</td>\n",
       "      <td>PRESTACION DE SERVICIOS COMO AUXILIAR ADMINIST...</td>\n",
       "      <td>2023-01-01</td>\n",
       "      <td>1006723486</td>\n",
       "      <td>DARIANY PATIÑO ARBOLEDA</td>\n",
       "      <td>5013000.0</td>\n",
       "      <td>Contratos y convenios con más de dos partes</td>\n",
       "      <td>Prestación de Servicios</td>\n",
       "      <td>https://www.contratos.gov.co/consultas/detalle...</td>\n",
       "      <td>SECOP I</td>\n",
       "    </tr>\n",
       "  </tbody>\n",
       "</table>\n",
       "</div>"
      ],
      "text/plain": [
       "                                      NOMBRE ENTIDAD ESTADO CONTRATO  \\\n",
       "0       GUAVIARE  ESE HOSPITAL SAN JOSE DEL GUAVIARE       Liquidado   \n",
       "1         RISARALDA  ESE HOSPITAL CRISTO REY  BALBOA       Celebrado   \n",
       "2  VALLE DEL CAUCA  ESE HOSPITAL FRANCINETH SANCH...       Liquidado   \n",
       "3       GUAVIARE  ESE HOSPITAL SAN JOSE DEL GUAVIARE       Liquidado   \n",
       "4  ANTIOQUIA  ESE HOSPITAL ATRATO MEDIO ANTIOQUEN...       Celebrado   \n",
       "5  HUILA  ESE HOSPITAL SAN FRANCISCO JAVIER  ACEVEDO       Celebrado   \n",
       "6           CUNDINAMARCA  ALCALDIA MUNICIPIO DE NILO       Liquidado   \n",
       "7                  TOLIMA  PIJAOS SALUD EPSI  IBAGUE       Celebrado   \n",
       "8         RISARALDA  ESE HOSPITAL CRISTO REY  BALBOA       Celebrado   \n",
       "9       GUAVIARE  ESE HOSPITAL SAN JOSE DEL GUAVIARE       Celebrado   \n",
       "\n",
       "  PROCESO DE COMPRA REFERENCIA DEL CONTRATO  \\\n",
       "0          162-2023                 1622023   \n",
       "1      CONTRATO 008            CONTRATO 008   \n",
       "2       CP-032-2023               CP0322023   \n",
       "3          263-2023                 2632023   \n",
       "4          006-2023                 0062023   \n",
       "5            CS-046                   CS046   \n",
       "6          003-2023            0032023 PRES   \n",
       "7     73-483-23-037              7348323037   \n",
       "8      CONTRATO 004            CONTRATO 004   \n",
       "9          058-2023                 0582023   \n",
       "\n",
       "                                  OBJETO CONTRACTUAL FECHA DE FIRMA  \\\n",
       "0  PRESTACION DE SERVICIOS COMO AUXILIAR DE ENFER...     2023-01-01   \n",
       "1  PRESTACION DE SERVICIOS DE APOYO A LA GESTION ...     2023-01-01   \n",
       "2                  PRESTACION DE SERVICIOS MOTORISTA     2023-01-01   \n",
       "3  PRESTACION DE SERVICIOS COMO AUXILIAR DE LABOR...     2023-01-01   \n",
       "4  LA PRESTACION DE SERVICIOS COMO AUXILIAR DE SE...     2023-01-01   \n",
       "5  PRESTACION DE SERVICIOS COMO APOYO A LA GESTIO...     2023-01-01   \n",
       "6  PRESTACION DE SERVICIOS PROFESIONALES PARA DES...     2023-01-01   \n",
       "7  EL PRESENTE CONTRATO TIENE POR OBJETO CONTRATA...     2023-01-01   \n",
       "8  PRESTAR EL SERVICIO DE ENFERMERIA EN LAS AREAS...     2023-01-01   \n",
       "9  PRESTACION DE SERVICIOS COMO AUXILIAR ADMINIST...     2023-01-01   \n",
       "\n",
       "  DOCUMENTO PROVEEDOR            PROVEEDOR ADJUDICADO  VALOR DEL CONTRATO  \\\n",
       "0          1120582153       FRANKLIN MARROQUIN TRIANA          10926000.0   \n",
       "1             4380862         ALEXANDER LOPEZ LONDOÑO           8260000.0   \n",
       "2            94362541                 EDUARDO PUMALPA           7000000.0   \n",
       "3          1010049957   PAULA ANDREA SUPELANO JIMENEZ          10926000.0   \n",
       "4            32195644             MARTINA MENA GAMBOA          14431584.0   \n",
       "5          1007695643        ADALID CHAVARRO CALDERON           4410000.0   \n",
       "6            66978106  SANDRA MILENA HERNANDEZ SIERRA          63600000.0   \n",
       "7           809009550   THE WALA IPS INDIGENA PUBLICA         854970068.0   \n",
       "8          1004682760   BRENDA YULISA CARDENAS SUAREZ          13440000.0   \n",
       "9          1006723486         DARIANY PATIÑO ARBOLEDA           5013000.0   \n",
       "\n",
       "                             MODALIDAD GENERAL         TIPO DE CONTRATO  \\\n",
       "0  Contratos y convenios con más de dos partes  Prestación de Servicios   \n",
       "1  Contratos y convenios con más de dos partes  Prestación de Servicios   \n",
       "2  Contratos y convenios con más de dos partes  Prestación de Servicios   \n",
       "3  Contratos y convenios con más de dos partes  Prestación de Servicios   \n",
       "4                         Contratación Directa  Prestación de Servicios   \n",
       "5                             Régimen Especial  Prestación de Servicios   \n",
       "6                         Contratación Directa  Prestación de Servicios   \n",
       "7                          Selección Abreviada  Prestación de Servicios   \n",
       "8  Contratos y convenios con más de dos partes  Prestación de Servicios   \n",
       "9  Contratos y convenios con más de dos partes  Prestación de Servicios   \n",
       "\n",
       "                                          URLPROCESO PLATAFORMA  \n",
       "0  https://www.contratos.gov.co/consultas/detalle...    SECOP I  \n",
       "1  https://www.contratos.gov.co/consultas/detalle...    SECOP I  \n",
       "2  https://www.contratos.gov.co/consultas/detalle...    SECOP I  \n",
       "3  https://www.contratos.gov.co/consultas/detalle...    SECOP I  \n",
       "4  https://www.contratos.gov.co/consultas/detalle...    SECOP I  \n",
       "5  https://www.contratos.gov.co/consultas/detalle...    SECOP I  \n",
       "6  https://www.contratos.gov.co/consultas/detalle...    SECOP I  \n",
       "7  https://www.contratos.gov.co/consultas/detalle...    SECOP I  \n",
       "8  https://www.contratos.gov.co/consultas/detalle...    SECOP I  \n",
       "9  https://www.contratos.gov.co/consultas/detalle...    SECOP I  "
      ]
     },
     "execution_count": 68,
     "metadata": {},
     "output_type": "execute_result"
    }
   ],
   "source": [
    "INTEGRADO['PLATAFORMA'] = 'Otro'\n",
    "INTEGRADO.loc[INTEGRADO['URLPROCESO'].str.startswith('https://www.contratos.gov.co/'), 'PLATAFORMA'] = 'SECOP I'\n",
    "INTEGRADO.loc[INTEGRADO['URLPROCESO'].str.startswith('https://community.secop.gov.co/'), 'PLATAFORMA'] = 'SECOP II'\n",
    "INTEGRADO.loc[INTEGRADO['URLPROCESO'].str.startswith('https://www.colombiacompra.gov.co/tienda'), 'PLATAFORMA'] = 'TVEC'\n",
    "\n",
    "INTEGRADO.head(10)"
   ]
  },
  {
   "cell_type": "markdown",
   "metadata": {},
   "source": [
    "Finalmente, tenemos una base de datos con 935.696 filas y 13 columnas."
   ]
  },
  {
   "cell_type": "code",
   "execution_count": 69,
   "metadata": {},
   "outputs": [],
   "source": [
    "csv_file_path = 'C:\\\\Users\\\\danie\\\\OneDrive\\\\Escritorio\\\\Proyecto análisis de datos\\\\INTEGRADO.csv'\n",
    "INTEGRADO.to_csv(csv_file_path,index=False)"
   ]
  },
  {
   "cell_type": "markdown",
   "metadata": {},
   "source": [
    "Ya hemos generado el archivo csv en la carpeta, ahora procedemos a analizar y dar respuesta a nuestro ejercicio a través de Power Bi en la segunda parte del proyecto."
   ]
  }
 ],
 "metadata": {
  "kernelspec": {
   "display_name": "Python 3",
   "language": "python",
   "name": "python3"
  },
  "language_info": {
   "codemirror_mode": {
    "name": "ipython",
    "version": 3
   },
   "file_extension": ".py",
   "mimetype": "text/x-python",
   "name": "python",
   "nbconvert_exporter": "python",
   "pygments_lexer": "ipython3",
   "version": "3.12.2"
  }
 },
 "nbformat": 4,
 "nbformat_minor": 2
}
